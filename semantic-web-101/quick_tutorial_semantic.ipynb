{
  "nbformat": 4,
  "nbformat_minor": 0,
  "metadata": {
    "colab": {
      "name": "quick-tutorial-semantic.ipynb",
      "provenance": [],
      "authorship_tag": "ABX9TyNNjDUJMr623eWF+YiMoaaN",
      "include_colab_link": true
    },
    "kernelspec": {
      "name": "python3",
      "display_name": "Python 3"
    }
  },
  "cells": [
    {
      "cell_type": "markdown",
      "metadata": {
        "id": "view-in-github",
        "colab_type": "text"
      },
      "source": [
        "<a href=\"https://colab.research.google.com/github/Rathachai/semantic-tech/blob/main/semantic-web-101/quick_tutorial_semantic.ipynb\" target=\"_parent\"><img src=\"https://colab.research.google.com/assets/colab-badge.svg\" alt=\"Open In Colab\"/></a>"
      ]
    },
    {
      "cell_type": "markdown",
      "metadata": {
        "id": "VSbDFAnEvQ7W"
      },
      "source": [
        "# **A Quick Semantic Technology Tutorial**\n",
        "> ## *Author* : [Rathachai CHAWUTHAI](https://rathachai.creatier.pro/) , Ph.D\n",
        "> ### *Affiliation* : Computer Engineering, King Mongkut's Institute of Technology Ladkrabang (KMITL)\n",
        "> #### *Updated Date* : 2021-01-11\n",
        "---"
      ]
    },
    {
      "cell_type": "markdown",
      "metadata": {
        "id": "2JL_KaZwvXON"
      },
      "source": [
        "> <a rel=\"license\" href=\"http://creativecommons.org/licenses/by-nc-sa/4.0/\"><img alt=\"Creative Commons License\" style=\"border-width:0\" src=\"https://i.creativecommons.org/l/by-nc-sa/4.0/88x31.png\" /></a><br />This work is licensed under a <a rel=\"license\" href=\"http://creativecommons.org/licenses/by-nc-sa/4.0/\">Creative Commons Attribution-NonCommercial-ShareAlike 4.0 International License</a>."
      ]
    },
    {
      "cell_type": "markdown",
      "metadata": {
        "id": "txEJYWZJ5mVd"
      },
      "source": [
        "**References:**\n",
        "*   https://github.com/RDFLib/rdflib\n",
        "*   https://rdflib.readthedocs.io/\n",
        "*   https://owl-rl.readthedocs.io/\n",
        "*   https://rdflib.dev/sparqlwrapper/"
      ]
    },
    {
      "cell_type": "markdown",
      "metadata": {
        "id": "VrIoSjN-igfm"
      },
      "source": [
        "## Install Libs"
      ]
    },
    {
      "cell_type": "code",
      "metadata": {
        "id": "tR_VbJNc5XxK"
      },
      "source": [
        "#!pip install rdflib"
      ],
      "execution_count": 1,
      "outputs": []
    },
    {
      "cell_type": "code",
      "metadata": {
        "id": "zBK9rq5JFOPu"
      },
      "source": [
        "#!pip install owlrl"
      ],
      "execution_count": 2,
      "outputs": []
    },
    {
      "cell_type": "code",
      "metadata": {
        "id": "OJvrFbXx1myK"
      },
      "source": [
        "#!pip install sparqlwrapper"
      ],
      "execution_count": 3,
      "outputs": []
    },
    {
      "cell_type": "markdown",
      "metadata": {
        "id": "Ztd3rSVmik5K"
      },
      "source": [
        "# To Load used Libraries"
      ]
    },
    {
      "cell_type": "code",
      "metadata": {
        "id": "z7z_MP8s5MMZ"
      },
      "source": [
        "import rdflib\n",
        "from rdflib import URIRef, BNode, Literal\n",
        "from rdflib import Namespace\n",
        "from rdflib.namespace import CSVW, DC, DCAT, DCTERMS, DOAP, FOAF, ODRL2, ORG, OWL, PROF, PROV, RDF, RDFS, SDO, SH, SKOS, SOSA, SSN, TIME, VOID, XMLNS, XSD\n",
        "from rdflib.plugins import sparql\n",
        "\n",
        "import owlrl\n",
        "\n",
        "from SPARQLWrapper import SPARQLWrapper, JSON, XML, N3, TURTLE, JSONLD"
      ],
      "execution_count": 4,
      "outputs": []
    },
    {
      "cell_type": "markdown",
      "metadata": {
        "id": "rEKgF_RTjOfk"
      },
      "source": [
        "## To Create Nodes"
      ]
    },
    {
      "cell_type": "code",
      "metadata": {
        "id": "LY7RJVWZjU-U"
      },
      "source": [
        "bob = URIRef(\"http://example.org/people/Bob\")"
      ],
      "execution_count": 5,
      "outputs": []
    },
    {
      "cell_type": "code",
      "metadata": {
        "colab": {
          "base_uri": "https://localhost:8080/",
          "height": 34
        },
        "id": "RVthhNbbjax-",
        "outputId": "bfbd29b4-5d5f-447d-db6e-ae01728245cb"
      },
      "source": [
        "bob"
      ],
      "execution_count": 6,
      "outputs": [
        {
          "output_type": "execute_result",
          "data": {
            "application/vnd.google.colaboratory.intrinsic+json": {
              "type": "string"
            },
            "text/plain": [
              "rdflib.term.URIRef('http://example.org/people/Bob')"
            ]
          },
          "metadata": {
            "tags": []
          },
          "execution_count": 6
        }
      ]
    },
    {
      "cell_type": "code",
      "metadata": {
        "id": "cDurTjdwjdn5"
      },
      "source": [
        "linda = BNode()"
      ],
      "execution_count": 7,
      "outputs": []
    },
    {
      "cell_type": "code",
      "metadata": {
        "colab": {
          "base_uri": "https://localhost:8080/",
          "height": 34
        },
        "id": "UNhJfDl3jhaV",
        "outputId": "1acb2ee0-2762-4520-8403-971ca1eed0ad"
      },
      "source": [
        "linda"
      ],
      "execution_count": 8,
      "outputs": [
        {
          "output_type": "execute_result",
          "data": {
            "application/vnd.google.colaboratory.intrinsic+json": {
              "type": "string"
            },
            "text/plain": [
              "rdflib.term.BNode('N1e9ccfd2e3b24f54802b0b6175c7d001')"
            ]
          },
          "metadata": {
            "tags": []
          },
          "execution_count": 8
        }
      ]
    },
    {
      "cell_type": "code",
      "metadata": {
        "id": "AdYQO3SRjncL"
      },
      "source": [
        "name = Literal('Bob')"
      ],
      "execution_count": 9,
      "outputs": []
    },
    {
      "cell_type": "code",
      "metadata": {
        "colab": {
          "base_uri": "https://localhost:8080/",
          "height": 34
        },
        "id": "0zrhng2ojpEv",
        "outputId": "4cde1b98-d922-4811-d2b4-1acb01a7e8a6"
      },
      "source": [
        "name"
      ],
      "execution_count": 10,
      "outputs": [
        {
          "output_type": "execute_result",
          "data": {
            "application/vnd.google.colaboratory.intrinsic+json": {
              "type": "string"
            },
            "text/plain": [
              "rdflib.term.Literal('Bob')"
            ]
          },
          "metadata": {
            "tags": []
          },
          "execution_count": 10
        }
      ]
    },
    {
      "cell_type": "code",
      "metadata": {
        "id": "aQI7flc1kaDn"
      },
      "source": [
        "age = Literal(24)"
      ],
      "execution_count": 11,
      "outputs": []
    },
    {
      "cell_type": "code",
      "metadata": {
        "colab": {
          "base_uri": "https://localhost:8080/",
          "height": 34
        },
        "id": "3Ym4RCpkkf60",
        "outputId": "333835cf-5297-4b29-df51-7caed1d44d32"
      },
      "source": [
        "age"
      ],
      "execution_count": 12,
      "outputs": [
        {
          "output_type": "execute_result",
          "data": {
            "application/vnd.google.colaboratory.intrinsic+json": {
              "type": "string"
            },
            "text/plain": [
              "rdflib.term.Literal('24', datatype=rdflib.term.URIRef('http://www.w3.org/2001/XMLSchema#integer'))"
            ]
          },
          "metadata": {
            "tags": []
          },
          "execution_count": 12
        }
      ]
    },
    {
      "cell_type": "code",
      "metadata": {
        "id": "u68CarTOkeyZ"
      },
      "source": [
        "height = Literal(76.5)"
      ],
      "execution_count": 13,
      "outputs": []
    },
    {
      "cell_type": "code",
      "metadata": {
        "colab": {
          "base_uri": "https://localhost:8080/",
          "height": 34
        },
        "id": "gC6aI0l3kiJC",
        "outputId": "627eada7-ce39-46db-9578-c36fc7f8ff03"
      },
      "source": [
        "height"
      ],
      "execution_count": 14,
      "outputs": [
        {
          "output_type": "execute_result",
          "data": {
            "application/vnd.google.colaboratory.intrinsic+json": {
              "type": "string"
            },
            "text/plain": [
              "rdflib.term.Literal('76.5', datatype=rdflib.term.URIRef('http://www.w3.org/2001/XMLSchema#double'))"
            ]
          },
          "metadata": {
            "tags": []
          },
          "execution_count": 14
        }
      ]
    },
    {
      "cell_type": "markdown",
      "metadata": {
        "id": "Kx3OstDAkqk-"
      },
      "source": [
        "## To Create Nodes from Namespaces"
      ]
    },
    {
      "cell_type": "code",
      "metadata": {
        "id": "bkaltnGxkt8y"
      },
      "source": [
        "n = Namespace(\"http://example.org/people/\")"
      ],
      "execution_count": 15,
      "outputs": []
    },
    {
      "cell_type": "code",
      "metadata": {
        "colab": {
          "base_uri": "https://localhost:8080/",
          "height": 34
        },
        "id": "_Uof71r4kyOB",
        "outputId": "c17022a0-6d8e-4af8-cd14-41a5361f85c0"
      },
      "source": [
        "n"
      ],
      "execution_count": 16,
      "outputs": [
        {
          "output_type": "execute_result",
          "data": {
            "application/vnd.google.colaboratory.intrinsic+json": {
              "type": "string"
            },
            "text/plain": [
              "Namespace('http://example.org/people/')"
            ]
          },
          "metadata": {
            "tags": []
          },
          "execution_count": 16
        }
      ]
    },
    {
      "cell_type": "code",
      "metadata": {
        "colab": {
          "base_uri": "https://localhost:8080/",
          "height": 34
        },
        "id": "1QnyND0-k_By",
        "outputId": "dcbb3819-9030-426a-f372-9b693cfee4e0"
      },
      "source": [
        "n.bob"
      ],
      "execution_count": 17,
      "outputs": [
        {
          "output_type": "execute_result",
          "data": {
            "application/vnd.google.colaboratory.intrinsic+json": {
              "type": "string"
            },
            "text/plain": [
              "rdflib.term.URIRef('http://example.org/people/bob')"
            ]
          },
          "metadata": {
            "tags": []
          },
          "execution_count": 17
        }
      ]
    },
    {
      "cell_type": "code",
      "metadata": {
        "colab": {
          "base_uri": "https://localhost:8080/",
          "height": 34
        },
        "id": "Zc0tcXnmlBpt",
        "outputId": "d377d774-37d9-4b4d-8fc0-c150ef078d7a"
      },
      "source": [
        "n.eve"
      ],
      "execution_count": 18,
      "outputs": [
        {
          "output_type": "execute_result",
          "data": {
            "application/vnd.google.colaboratory.intrinsic+json": {
              "type": "string"
            },
            "text/plain": [
              "rdflib.term.URIRef('http://example.org/people/eve')"
            ]
          },
          "metadata": {
            "tags": []
          },
          "execution_count": 18
        }
      ]
    },
    {
      "cell_type": "code",
      "metadata": {
        "colab": {
          "base_uri": "https://localhost:8080/"
        },
        "id": "_NfG55sPlI_W",
        "outputId": "ae691445-e96d-4b00-85d0-c2650cbb08b8"
      },
      "source": [
        "RDF"
      ],
      "execution_count": 19,
      "outputs": [
        {
          "output_type": "execute_result",
          "data": {
            "text/plain": [
              "rdf.namespace.ClosedNamespace('http://www.w3.org/1999/02/22-rdf-syntax-ns#')"
            ]
          },
          "metadata": {
            "tags": []
          },
          "execution_count": 19
        }
      ]
    },
    {
      "cell_type": "code",
      "metadata": {
        "colab": {
          "base_uri": "https://localhost:8080/",
          "height": 34
        },
        "id": "JW-2uST3lK_Q",
        "outputId": "ef4be262-3a07-4a7d-8dd7-16fcc7daeb6c"
      },
      "source": [
        "RDF.type"
      ],
      "execution_count": 20,
      "outputs": [
        {
          "output_type": "execute_result",
          "data": {
            "application/vnd.google.colaboratory.intrinsic+json": {
              "type": "string"
            },
            "text/plain": [
              "rdflib.term.URIRef('http://www.w3.org/1999/02/22-rdf-syntax-ns#type')"
            ]
          },
          "metadata": {
            "tags": []
          },
          "execution_count": 20
        }
      ]
    },
    {
      "cell_type": "code",
      "metadata": {
        "colab": {
          "base_uri": "https://localhost:8080/",
          "height": 34
        },
        "id": "Q8PBKxVolOXj",
        "outputId": "0ee57812-02e6-40f7-bc5c-b3e92f106071"
      },
      "source": [
        "FOAF.knows"
      ],
      "execution_count": 21,
      "outputs": [
        {
          "output_type": "execute_result",
          "data": {
            "application/vnd.google.colaboratory.intrinsic+json": {
              "type": "string"
            },
            "text/plain": [
              "rdflib.term.URIRef('http://xmlns.com/foaf/0.1/knows')"
            ]
          },
          "metadata": {
            "tags": []
          },
          "execution_count": 21
        }
      ]
    },
    {
      "cell_type": "markdown",
      "metadata": {
        "id": "-ImLjmRrlWSG"
      },
      "source": [
        "## To Create Triples"
      ]
    },
    {
      "cell_type": "code",
      "metadata": {
        "id": "Oxlt6XACmSJl"
      },
      "source": [
        "pp = Namespace(\"http://example.org/people/\")"
      ],
      "execution_count": 22,
      "outputs": []
    },
    {
      "cell_type": "code",
      "metadata": {
        "id": "RRHpN05Glafw"
      },
      "source": [
        "g = rdflib.Graph()"
      ],
      "execution_count": 23,
      "outputs": []
    },
    {
      "cell_type": "code",
      "metadata": {
        "colab": {
          "base_uri": "https://localhost:8080/"
        },
        "id": "U9j4yUxsmBZ_",
        "outputId": "c297e50e-9a5a-4d81-a690-567112924a2f"
      },
      "source": [
        "print(g.serialize(format=\"turtle\").decode(\"utf-8\"))"
      ],
      "execution_count": 24,
      "outputs": [
        {
          "output_type": "stream",
          "text": [
            "\n",
            "\n"
          ],
          "name": "stdout"
        }
      ]
    },
    {
      "cell_type": "code",
      "metadata": {
        "id": "t-x3A4UclqbA"
      },
      "source": [
        "g.add((pp.bob, RDF.type, FOAF.Person))"
      ],
      "execution_count": 25,
      "outputs": []
    },
    {
      "cell_type": "code",
      "metadata": {
        "colab": {
          "base_uri": "https://localhost:8080/"
        },
        "id": "DXcvAimzl4Hi",
        "outputId": "32157f2b-8e71-48c3-da15-d0d33d5ec7ee"
      },
      "source": [
        "print(g.serialize(format=\"turtle\").decode(\"utf-8\"))"
      ],
      "execution_count": 26,
      "outputs": [
        {
          "output_type": "stream",
          "text": [
            "\n",
            "<http://example.org/people/bob> a <http://xmlns.com/foaf/0.1/Person> .\n",
            "\n",
            "\n"
          ],
          "name": "stdout"
        }
      ]
    },
    {
      "cell_type": "code",
      "metadata": {
        "id": "7SMI9f_5mG_I"
      },
      "source": [
        "g.bind(\"foaf\", FOAF)"
      ],
      "execution_count": 27,
      "outputs": []
    },
    {
      "cell_type": "code",
      "metadata": {
        "colab": {
          "base_uri": "https://localhost:8080/"
        },
        "id": "zieDPR6Tl47d",
        "outputId": "f4846b16-5c22-497e-b504-ba84d63257a9"
      },
      "source": [
        "print(g.serialize(format=\"turtle\").decode(\"utf-8\"))"
      ],
      "execution_count": 28,
      "outputs": [
        {
          "output_type": "stream",
          "text": [
            "@prefix foaf: <http://xmlns.com/foaf/0.1/> .\n",
            "\n",
            "<http://example.org/people/bob> a foaf:Person .\n",
            "\n",
            "\n"
          ],
          "name": "stdout"
        }
      ]
    },
    {
      "cell_type": "code",
      "metadata": {
        "id": "M0fIbhA4msbc"
      },
      "source": [
        "g.bind(\"pp\", pp)"
      ],
      "execution_count": 29,
      "outputs": []
    },
    {
      "cell_type": "code",
      "metadata": {
        "colab": {
          "base_uri": "https://localhost:8080/"
        },
        "id": "AktT6ElKmwr6",
        "outputId": "ce38525c-cc9c-42b7-bfbe-05b198b1311e"
      },
      "source": [
        "print(g.serialize(format=\"turtle\").decode(\"utf-8\"))"
      ],
      "execution_count": 30,
      "outputs": [
        {
          "output_type": "stream",
          "text": [
            "@prefix foaf: <http://xmlns.com/foaf/0.1/> .\n",
            "@prefix pp: <http://example.org/people/> .\n",
            "\n",
            "pp:bob a foaf:Person .\n",
            "\n",
            "\n"
          ],
          "name": "stdout"
        }
      ]
    },
    {
      "cell_type": "code",
      "metadata": {
        "id": "sFVFlYHNm18W"
      },
      "source": [
        "g.add((pp.bob, FOAF.name, Literal('Bob')))"
      ],
      "execution_count": 31,
      "outputs": []
    },
    {
      "cell_type": "code",
      "metadata": {
        "colab": {
          "base_uri": "https://localhost:8080/"
        },
        "id": "YwIm2RwXnAEL",
        "outputId": "80005c29-9fa0-4c9e-bfd4-74af6bf9c74a"
      },
      "source": [
        "print(g.serialize(format=\"turtle\").decode(\"utf-8\"))"
      ],
      "execution_count": 32,
      "outputs": [
        {
          "output_type": "stream",
          "text": [
            "@prefix foaf: <http://xmlns.com/foaf/0.1/> .\n",
            "@prefix pp: <http://example.org/people/> .\n",
            "\n",
            "pp:bob a foaf:Person ;\n",
            "    foaf:name \"Bob\" .\n",
            "\n",
            "\n"
          ],
          "name": "stdout"
        }
      ]
    },
    {
      "cell_type": "code",
      "metadata": {
        "id": "oDkMNQk4nPpy"
      },
      "source": [
        "g.add((pp.bob, FOAF.knows, pp.linda))"
      ],
      "execution_count": 33,
      "outputs": []
    },
    {
      "cell_type": "code",
      "metadata": {
        "colab": {
          "base_uri": "https://localhost:8080/"
        },
        "id": "-HXny_UknV0U",
        "outputId": "0b0b0a19-334d-45cc-b4aa-e1da33038ac6"
      },
      "source": [
        "print(g.serialize(format=\"turtle\").decode(\"utf-8\"))"
      ],
      "execution_count": 34,
      "outputs": [
        {
          "output_type": "stream",
          "text": [
            "@prefix foaf: <http://xmlns.com/foaf/0.1/> .\n",
            "@prefix pp: <http://example.org/people/> .\n",
            "\n",
            "pp:bob a foaf:Person ;\n",
            "    foaf:knows pp:linda ;\n",
            "    foaf:name \"Bob\" .\n",
            "\n",
            "\n"
          ],
          "name": "stdout"
        }
      ]
    },
    {
      "cell_type": "code",
      "metadata": {
        "id": "GUmlctninhFW"
      },
      "source": [
        "g.add((pp.bob, FOAF.knows, pp.mark))"
      ],
      "execution_count": 35,
      "outputs": []
    },
    {
      "cell_type": "code",
      "metadata": {
        "colab": {
          "base_uri": "https://localhost:8080/"
        },
        "id": "5VJ2jeMdnkjC",
        "outputId": "c193bca1-df09-4c5d-96c3-6f1a4a04a758"
      },
      "source": [
        "print(g.serialize(format=\"turtle\").decode(\"utf-8\"))"
      ],
      "execution_count": 36,
      "outputs": [
        {
          "output_type": "stream",
          "text": [
            "@prefix foaf: <http://xmlns.com/foaf/0.1/> .\n",
            "@prefix pp: <http://example.org/people/> .\n",
            "\n",
            "pp:bob a foaf:Person ;\n",
            "    foaf:knows pp:linda,\n",
            "        pp:mark ;\n",
            "    foaf:name \"Bob\" .\n",
            "\n",
            "\n"
          ],
          "name": "stdout"
        }
      ]
    },
    {
      "cell_type": "markdown",
      "metadata": {
        "id": "y47tAnOfowo8"
      },
      "source": [
        "## To Create a Graph"
      ]
    },
    {
      "cell_type": "code",
      "metadata": {
        "id": "8saOCnhNnoa1"
      },
      "source": [
        "g = rdflib.Graph()\n",
        "g.bind(\"foaf\", FOAF)\n",
        "g.bind(\"pp\", pp)\n",
        "\n",
        "g.add((pp.bob, RDF.type, FOAF.Person))\n",
        "g.add((pp.bob, FOAF.name, name))\n",
        "\n",
        "g.add((pp.linda, RDF.type, FOAF.Person))\n",
        "g.add((pp.linda, FOAF.name, Literal(\"Linda\")))\n",
        "\n",
        "g.add((pp.mark, RDF.type, FOAF.Person))\n",
        "g.add((pp.mark, FOAF.name, Literal(\"Mark\")))\n",
        "\n",
        "g.add((pp.bob, FOAF.knows, pp.linda))\n",
        "g.add((pp.bob, FOAF.knows, pp.mark))"
      ],
      "execution_count": 37,
      "outputs": []
    },
    {
      "cell_type": "code",
      "metadata": {
        "colab": {
          "base_uri": "https://localhost:8080/"
        },
        "id": "1TpX-YaontBM",
        "outputId": "5e8c8234-f238-4420-977e-49f875a4067b"
      },
      "source": [
        "print(g.serialize(format=\"turtle\").decode(\"utf-8\"))"
      ],
      "execution_count": 38,
      "outputs": [
        {
          "output_type": "stream",
          "text": [
            "@prefix foaf: <http://xmlns.com/foaf/0.1/> .\n",
            "@prefix pp: <http://example.org/people/> .\n",
            "\n",
            "pp:bob a foaf:Person ;\n",
            "    foaf:knows pp:linda,\n",
            "        pp:mark ;\n",
            "    foaf:name \"Bob\" .\n",
            "\n",
            "pp:linda a foaf:Person ;\n",
            "    foaf:name \"Linda\" .\n",
            "\n",
            "pp:mark a foaf:Person ;\n",
            "    foaf:name \"Mark\" .\n",
            "\n",
            "\n"
          ],
          "name": "stdout"
        }
      ]
    },
    {
      "cell_type": "code",
      "metadata": {
        "colab": {
          "base_uri": "https://localhost:8080/"
        },
        "id": "b4AxRm5-pbGr",
        "outputId": "6c9855fe-3871-4a4f-e373-95b3b4f4207b"
      },
      "source": [
        "print(g.serialize(format=\"xml\").decode(\"utf-8\"))"
      ],
      "execution_count": 39,
      "outputs": [
        {
          "output_type": "stream",
          "text": [
            "<?xml version=\"1.0\" encoding=\"UTF-8\"?>\n",
            "<rdf:RDF\n",
            "   xmlns:foaf=\"http://xmlns.com/foaf/0.1/\"\n",
            "   xmlns:rdf=\"http://www.w3.org/1999/02/22-rdf-syntax-ns#\"\n",
            ">\n",
            "  <rdf:Description rdf:about=\"http://example.org/people/linda\">\n",
            "    <foaf:name>Linda</foaf:name>\n",
            "    <rdf:type rdf:resource=\"http://xmlns.com/foaf/0.1/Person\"/>\n",
            "  </rdf:Description>\n",
            "  <rdf:Description rdf:about=\"http://example.org/people/bob\">\n",
            "    <foaf:knows rdf:resource=\"http://example.org/people/mark\"/>\n",
            "    <foaf:name>Bob</foaf:name>\n",
            "    <foaf:knows rdf:resource=\"http://example.org/people/linda\"/>\n",
            "    <rdf:type rdf:resource=\"http://xmlns.com/foaf/0.1/Person\"/>\n",
            "  </rdf:Description>\n",
            "  <rdf:Description rdf:about=\"http://example.org/people/mark\">\n",
            "    <foaf:name>Mark</foaf:name>\n",
            "    <rdf:type rdf:resource=\"http://xmlns.com/foaf/0.1/Person\"/>\n",
            "  </rdf:Description>\n",
            "</rdf:RDF>\n",
            "\n"
          ],
          "name": "stdout"
        }
      ]
    },
    {
      "cell_type": "code",
      "metadata": {
        "colab": {
          "base_uri": "https://localhost:8080/"
        },
        "id": "V-3k5UDRphCT",
        "outputId": "1e38d248-49aa-4568-fe9d-d7087ec5ba09"
      },
      "source": [
        "print(g.serialize(format=\"ntriples\").decode(\"utf-8\"))"
      ],
      "execution_count": 40,
      "outputs": [
        {
          "output_type": "stream",
          "text": [
            "<http://example.org/people/linda> <http://xmlns.com/foaf/0.1/name> \"Linda\" .\n",
            "<http://example.org/people/bob> <http://www.w3.org/1999/02/22-rdf-syntax-ns#type> <http://xmlns.com/foaf/0.1/Person> .\n",
            "<http://example.org/people/linda> <http://www.w3.org/1999/02/22-rdf-syntax-ns#type> <http://xmlns.com/foaf/0.1/Person> .\n",
            "<http://example.org/people/mark> <http://xmlns.com/foaf/0.1/name> \"Mark\" .\n",
            "<http://example.org/people/bob> <http://xmlns.com/foaf/0.1/knows> <http://example.org/people/mark> .\n",
            "<http://example.org/people/bob> <http://xmlns.com/foaf/0.1/name> \"Bob\" .\n",
            "<http://example.org/people/bob> <http://xmlns.com/foaf/0.1/knows> <http://example.org/people/linda> .\n",
            "<http://example.org/people/mark> <http://www.w3.org/1999/02/22-rdf-syntax-ns#type> <http://xmlns.com/foaf/0.1/Person> .\n",
            "\n",
            "\n"
          ],
          "name": "stdout"
        }
      ]
    },
    {
      "cell_type": "markdown",
      "metadata": {
        "id": "kjb6ttCoo1Sx"
      },
      "source": [
        "# To Create a Graph from String"
      ]
    },
    {
      "cell_type": "code",
      "metadata": {
        "id": "Y2kUAplJpBr2"
      },
      "source": [
        "g = rdflib.Graph()"
      ],
      "execution_count": 41,
      "outputs": []
    },
    {
      "cell_type": "code",
      "metadata": {
        "colab": {
          "base_uri": "https://localhost:8080/"
        },
        "id": "Da_55B4dpNBE",
        "outputId": "9f31a63a-00ab-43e2-e3f9-3125e0ee27c3"
      },
      "source": [
        "print(g.serialize(format=\"turtle\").decode(\"utf-8\"))"
      ],
      "execution_count": 42,
      "outputs": [
        {
          "output_type": "stream",
          "text": [
            "\n",
            "\n"
          ],
          "name": "stdout"
        }
      ]
    },
    {
      "cell_type": "code",
      "metadata": {
        "id": "_xHUmBNBo5Jx"
      },
      "source": [
        "rdf_text = '''\n",
        "@prefix foaf: <http://xmlns.com/foaf/0.1/> .\n",
        "@prefix pp: <http://example.org/people/> .\n",
        "\n",
        "pp:bob a foaf:Person ;\n",
        "    foaf:knows pp:linda, pp:mark ;\n",
        "    foaf:name \"Bob\" .\n",
        "\n",
        "pp:linda a foaf:Person ;\n",
        "    foaf:name \"Linda\" .\n",
        "\n",
        "pp:mark foaf:name \"Mark\" .\n",
        "'''"
      ],
      "execution_count": 43,
      "outputs": []
    },
    {
      "cell_type": "code",
      "metadata": {
        "colab": {
          "base_uri": "https://localhost:8080/"
        },
        "id": "qYADYa1HpNLm",
        "outputId": "267d1399-9ad5-4ec0-ee94-b12977048fe7"
      },
      "source": [
        "g.parse( data=rdf_text, format='turtle' )"
      ],
      "execution_count": 44,
      "outputs": [
        {
          "output_type": "execute_result",
          "data": {
            "text/plain": [
              "<Graph identifier=N612c8cf5563343b789f862a470851208 (<class 'rdflib.graph.Graph'>)>"
            ]
          },
          "metadata": {
            "tags": []
          },
          "execution_count": 44
        }
      ]
    },
    {
      "cell_type": "code",
      "metadata": {
        "colab": {
          "base_uri": "https://localhost:8080/"
        },
        "id": "RPKtRQigpURz",
        "outputId": "253e5e07-be34-4e28-fede-ca1eb2495bcd"
      },
      "source": [
        "print(g.serialize(format=\"turtle\").decode(\"utf-8\"))"
      ],
      "execution_count": 45,
      "outputs": [
        {
          "output_type": "stream",
          "text": [
            "@prefix foaf: <http://xmlns.com/foaf/0.1/> .\n",
            "@prefix pp: <http://example.org/people/> .\n",
            "\n",
            "pp:bob a foaf:Person ;\n",
            "    foaf:knows pp:linda,\n",
            "        pp:mark ;\n",
            "    foaf:name \"Bob\" .\n",
            "\n",
            "pp:linda a foaf:Person ;\n",
            "    foaf:name \"Linda\" .\n",
            "\n",
            "pp:mark foaf:name \"Mark\" .\n",
            "\n",
            "\n"
          ],
          "name": "stdout"
        }
      ]
    },
    {
      "cell_type": "markdown",
      "metadata": {
        "id": "9f1qyKmovtaM"
      },
      "source": [
        "## To Save a Graph"
      ]
    },
    {
      "cell_type": "code",
      "metadata": {
        "id": "6pCd7LIQvwR5",
        "colab": {
          "base_uri": "https://localhost:8080/"
        },
        "outputId": "fffa8661-59af-4fa5-e8e9-6d6513400286"
      },
      "source": [
        "rdf_text = '''\n",
        "@prefix foaf: <http://xmlns.com/foaf/0.1/> .\n",
        "@prefix pp: <http://example.org/people/> .\n",
        "\n",
        "pp:bob a foaf:Person ;\n",
        "    foaf:knows pp:linda, pp:mark ;\n",
        "    foaf:name \"Bob\" .\n",
        "\n",
        "pp:linda a foaf:Person ;\n",
        "    foaf:name \"Linda\" .\n",
        "\n",
        "pp:mark foaf:name \"Mark\" .\n",
        "'''\n",
        "\n",
        "g = rdflib.Graph()\n",
        "g.parse( data=rdf_text, format='turtle' )"
      ],
      "execution_count": 46,
      "outputs": [
        {
          "output_type": "execute_result",
          "data": {
            "text/plain": [
              "<Graph identifier=N563a8aa753f74c059b4aca6c20ba2c76 (<class 'rdflib.graph.Graph'>)>"
            ]
          },
          "metadata": {
            "tags": []
          },
          "execution_count": 46
        }
      ]
    },
    {
      "cell_type": "code",
      "metadata": {
        "id": "x9S7lHPiv1_f"
      },
      "source": [
        "g.serialize('my_rdf.ttl',format='turtle')"
      ],
      "execution_count": 47,
      "outputs": []
    },
    {
      "cell_type": "markdown",
      "metadata": {
        "id": "f7ScIZllwToO"
      },
      "source": [
        "## To Read a Graph from a File"
      ]
    },
    {
      "cell_type": "code",
      "metadata": {
        "colab": {
          "base_uri": "https://localhost:8080/"
        },
        "id": "5MdVfR38q4Qy",
        "outputId": "980107c3-17f4-4b10-a47b-9b40bdda2f38"
      },
      "source": [
        "g2 = rdflib.Graph()\n",
        "g2.parse(\"/content/my_rdf.ttl\", format='turtle')"
      ],
      "execution_count": 48,
      "outputs": [
        {
          "output_type": "execute_result",
          "data": {
            "text/plain": [
              "<Graph identifier=N8ba827b3b3924f5b954fb51c2b0b501d (<class 'rdflib.graph.Graph'>)>"
            ]
          },
          "metadata": {
            "tags": []
          },
          "execution_count": 48
        }
      ]
    },
    {
      "cell_type": "code",
      "metadata": {
        "colab": {
          "base_uri": "https://localhost:8080/"
        },
        "id": "8SBF4qp2w2oy",
        "outputId": "4ba184e3-f4b8-4a19-ee38-91a2c19fd6b8"
      },
      "source": [
        "print(g2.serialize(format=\"turtle\").decode(\"utf-8\"))"
      ],
      "execution_count": 49,
      "outputs": [
        {
          "output_type": "stream",
          "text": [
            "@prefix foaf: <http://xmlns.com/foaf/0.1/> .\n",
            "@prefix pp: <http://example.org/people/> .\n",
            "\n",
            "pp:bob a foaf:Person ;\n",
            "    foaf:knows pp:linda,\n",
            "        pp:mark ;\n",
            "    foaf:name \"Bob\" .\n",
            "\n",
            "pp:linda a foaf:Person ;\n",
            "    foaf:name \"Linda\" .\n",
            "\n",
            "pp:mark foaf:name \"Mark\" .\n",
            "\n",
            "\n"
          ],
          "name": "stdout"
        }
      ]
    },
    {
      "cell_type": "markdown",
      "metadata": {
        "id": "qAMgep6Nq9gg"
      },
      "source": [
        "## To Read a Graph from URL"
      ]
    },
    {
      "cell_type": "code",
      "metadata": {
        "id": "7Z2-Q-_kwUiT",
        "colab": {
          "base_uri": "https://localhost:8080/"
        },
        "outputId": "c1b250db-b12c-4408-f81b-0405821144e6"
      },
      "source": [
        "g = rdflib.Graph()\n",
        "g.parse(\"http://bigasterisk.com/foaf.rdf\")"
      ],
      "execution_count": 50,
      "outputs": [
        {
          "output_type": "execute_result",
          "data": {
            "text/plain": [
              "<Graph identifier=N33707a869fc642669623edffad7f0b17 (<class 'rdflib.graph.Graph'>)>"
            ]
          },
          "metadata": {
            "tags": []
          },
          "execution_count": 50
        }
      ]
    },
    {
      "cell_type": "code",
      "metadata": {
        "colab": {
          "base_uri": "https://localhost:8080/"
        },
        "id": "_HCe_g2mq-s9",
        "outputId": "f225520e-3128-4568-a4a1-6e26e7b0c085"
      },
      "source": [
        "print(g.serialize(format=\"turtle\").decode(\"utf-8\"))"
      ],
      "execution_count": 51,
      "outputs": [
        {
          "output_type": "stream",
          "text": [
            "@prefix : <http://www.w3.org/2003/01/geo/wgs84_pos#> .\n",
            "@prefix admin: <http://webns.net/mvcb/> .\n",
            "@prefix cert: <http://www.w3.org/ns/auth/cert#> .\n",
            "@prefix doap: <http://usefulinc.com/ns/doap#> .\n",
            "@prefix foaf: <http://xmlns.com/foaf/0.1/> .\n",
            "@prefix owl: <http://www.w3.org/2002/07/owl#> .\n",
            "@prefix rdfs: <http://www.w3.org/2000/01/rdf-schema#> .\n",
            "@prefix redfoot: <http://redfoot.net/2005/session#> .\n",
            "@prefix rsa: <http://www.w3.org/ns/auth/rsa#> .\n",
            "\n",
            "<https://bigasterisk.com/foaf.rdf> a foaf:PersonalProfileDocument ;\n",
            "    admin:errorReportsTo <mailto:leigh@ldodds.com> ;\n",
            "    admin:generatorAgent <http://www.ldodds.com/foaf/foaf-a-matic> ;\n",
            "    foaf:maker <http://bigasterisk.com/foaf.rdf#drewp> ;\n",
            "    foaf:primaryTopic <http://bigasterisk.com/foaf.rdf#drewp> .\n",
            "\n",
            "<http://bblfish.net/people/henry/card#me> a foaf:Person ;\n",
            "    rdfs:seeAlso <http://bblfish.net/people/henry/card> ;\n",
            "    foaf:name \"Henry Story\" .\n",
            "\n",
            "<http://collectivesource.com/foaf.rdf#nathan> a foaf:Person ;\n",
            "    rdfs:seeAlso <http://collectivesource.com/foaf.rdf> ;\n",
            "    foaf:mbox_sha1sum \"25b089f5bc32b48f545daf04a60c4823dc477c80\" ;\n",
            "    foaf:name \"Nathan Wilson\" .\n",
            "\n",
            "<http://fantasyfamegame.com/> a doap:Project ;\n",
            "    doap:category <http://rdflib.net/projects#using_rdflib> ;\n",
            "    doap:description \"(unreleased)\" ;\n",
            "    doap:homepage <http://fantasyfamegame.com/> ;\n",
            "    doap:maintainer <http://bigasterisk.com/foaf.rdf#drewp> ;\n",
            "    doap:name \"Fantasy Fame Game\" .\n",
            "\n",
            "<https://bigasterisk.com/foaf.rdf#accnt> a foaf:OnlineAccount ;\n",
            "    foaf:accountServiceHomePage <https://bigasterisk.com/cert/> .\n",
            "\n",
            "<http://bigasterisk.com/foaf.rdf#drewp> a foaf:Person ;\n",
            "    redfoot:hexdigest \"a58baff6ce11790bea51287049899088\" ;\n",
            "    rdfs:seeAlso <http://identi.ca/drewp/foaf>,\n",
            "        <http://revyu.com/people/drewp/about/rdf> ;\n",
            "    owl:sameAs <http://identi.ca/user/8563>,\n",
            "        <http://revyu.com/people/drewp> ;\n",
            "    foaf:based_near [ a :Point ;\n",
            "            :lat \"37.520478\" ;\n",
            "            :long \"-122.27603\" ],\n",
            "        <http://sws.geonames.org/5404335/> ;\n",
            "    foaf:currentProject <http://fantasyfamegame.com/>,\n",
            "        <http://gasuse.bigasterisk.com/> ;\n",
            "    foaf:depiction <http://bigasterisk.com/drewheadshot> ;\n",
            "    foaf:family_name \"Perttula\" ;\n",
            "    foaf:givenname \"Drew\" ;\n",
            "    foaf:holdsAccount <http://delicious.com/drewpca/>,\n",
            "        <http://identi.ca/user/8563>,\n",
            "        <https://bigasterisk.com/foaf.rdf#accnt> ;\n",
            "    foaf:homepage <http://bigasterisk.com> ;\n",
            "    foaf:knows [ a foaf:Person ;\n",
            "            foaf:mbox_sha1sum \"1c9699bb667d9ad9595cbaa0467ce677bf225829\" ;\n",
            "            foaf:name \"David McClosky\" ],\n",
            "        [ a foaf:Person ;\n",
            "            foaf:mbox_sha1sum \"92fe6a27d1a6d6342da3889b6af429f8f3d229b2\" ;\n",
            "            foaf:name \"Kelsi Perttula\" ],\n",
            "        <http://bblfish.net/people/henry/card#me>,\n",
            "        <http://collectivesource.com/foaf.rdf#nathan> ;\n",
            "    foaf:mbox_sha1sum \"847eea9f89b1efff3c735c0d73b30b8280cfc030\" ;\n",
            "    foaf:name \"Drew Perttula\" ;\n",
            "    foaf:nick \"drewp\" ;\n",
            "    foaf:schoolHomepage <http://berkeley.edu> ;\n",
            "    foaf:title \"Mr\" ;\n",
            "    foaf:workplaceHomepage <http://www.dreamworksanimation.com/> .\n",
            "\n",
            "[] a rsa:RSAPublicKey ;\n",
            "    cert:identity <https://bigasterisk.com/foaf.rdf#accnt> ;\n",
            "    rsa:modulus [ cert:hex \"d00c13c94adda4636cdf55b66d4c28dde58fe40059458f7b17683c75f5dc111a6e17eb60e42190aeefc904e6f91dbeb0d0084114df3fa4532d5d439a70fce8d8138712dde3e0faa1f9023cf315dbb3e6227b87f87d9552f721c5418cfa8108f710c5dc96978d6c872343132eb359a33a4bba165044c21d6ccafeddcf3b293d50b68f9f8a971a3ecc7b2a3cdad1ab1bfd66ccf89e34453287a2d097a5a98a21b03e9e2f261ab43fe5521d2f2bd606f3a7293fe763efbb37a06563ebe21beea9ea75eb156caa58997072996aa725508ed215e1fe24bba63410728984898d1950b1e63c8108c37aad4ff98c019651592e6e03c85dd5d4e5e1264c35bf3e66a57b03\" ] ;\n",
            "    rsa:public_exponent [ cert:decimal \"65537\" ] .\n",
            "\n",
            "\n"
          ],
          "name": "stdout"
        }
      ]
    },
    {
      "cell_type": "markdown",
      "metadata": {
        "id": "rhhgqFkBriRw"
      },
      "source": [
        "## To Load a Graph from a Resource"
      ]
    },
    {
      "cell_type": "code",
      "metadata": {
        "id": "u_ZTgPmbrqD7"
      },
      "source": [
        "g = rdflib.Graph()\n",
        "g.load('http://dbpedia.org/resource/IPhone_12_Pro')"
      ],
      "execution_count": 52,
      "outputs": []
    },
    {
      "cell_type": "code",
      "metadata": {
        "colab": {
          "base_uri": "https://localhost:8080/"
        },
        "id": "9fdQ0betrre9",
        "outputId": "00fd9c35-30ed-41c4-a82f-03422bfb286b"
      },
      "source": [
        "print(g.serialize(format=\"turtle\").decode(\"utf-8\")[:1000])\n",
        "print(\" ... \")\n",
        "print(\" ... \")\n",
        "print(\" ... \")\n",
        "print(g.serialize(format=\"turtle\").decode(\"utf-8\")[-500:])"
      ],
      "execution_count": 53,
      "outputs": [
        {
          "output_type": "stream",
          "text": [
            "@prefix dbo: <http://dbpedia.org/ontology/> .\n",
            "@prefix dbp: <http://dbpedia.org/property/> .\n",
            "@prefix dct: <http://purl.org/dc/terms/> .\n",
            "@prefix foaf: <http://xmlns.com/foaf/0.1/> .\n",
            "@prefix owl: <http://www.w3.org/2002/07/owl#> .\n",
            "@prefix prov: <http://www.w3.org/ns/prov#> .\n",
            "@prefix rdfs: <http://www.w3.org/2000/01/rdf-schema#> .\n",
            "@prefix xsd: <http://www.w3.org/2001/XMLSchema#> .\n",
            "\n",
            "<http://dbpedia.org/resource/IPhone_12_Pro_Max> dbo:wikiPageRedirects <http://dbpedia.org/resource/IPhone_12_Pro> .\n",
            "\n",
            "<http://dbpedia.org/resource/IPhone_11_Pro> dbp:successor <http://dbpedia.org/resource/IPhone_12_Pro> .\n",
            "\n",
            "<http://dbpedia.org/resource/IPhone_12> dbp:related <http://dbpedia.org/resource/IPhone_12_Pro> .\n",
            "\n",
            "<http://en.wikipedia.org/wiki/IPhone_12_Pro> foaf:primaryTopic <http://dbpedia.org/resource/IPhone_12_Pro> .\n",
            "\n",
            "<http://dbpedia.org/resource/IPhone_12_Pro> rdfs:label \"IPhone 12 Pro\"@en ;\n",
            "    dbo:wikiPageExternalLink <https://apple.com/iphone-12-pro%7CiPhone> ;\n",
            "    dbo:wikiPageID 65570746 ;\n",
            "    dbo:\n",
            " ... \n",
            " ... \n",
            " ... \n",
            "g/resource/Category:Mobile_phones_with_4K_video_recording>,\n",
            "        <http://dbpedia.org/resource/Category:Phones_with_multiple_rear_cameras>,\n",
            "        <http://dbpedia.org/resource/Category:Telecommunications> ;\n",
            "    owl:sameAs <http://dbpedia.org/resource/IPhone_12_Pro> ;\n",
            "    prov:wasDerivedFrom <http://en.wikipedia.org/wiki/IPhone_12_Pro?oldid=986600048&ns=0> ;\n",
            "    foaf:homepage <https://apple.com/iphone-12-pro%7CiPhone> ;\n",
            "    foaf:isPrimaryTopicOf <http://en.wikipedia.org/wiki/IPhone_12_Pro> .\n",
            "\n",
            "\n"
          ],
          "name": "stdout"
        }
      ]
    },
    {
      "cell_type": "markdown",
      "metadata": {
        "id": "0gW9c5IGsnpl"
      },
      "source": [
        "## To Read each Trople from a Graph"
      ]
    },
    {
      "cell_type": "code",
      "metadata": {
        "id": "8sDiNELAts0e",
        "colab": {
          "base_uri": "https://localhost:8080/"
        },
        "outputId": "75abca60-8c43-46b4-b5e1-28da122bc97c"
      },
      "source": [
        "rdf_text = '''\n",
        "@prefix foaf: <http://xmlns.com/foaf/0.1/> .\n",
        "@prefix pp: <http://example.org/people/> .\n",
        "\n",
        "pp:bob a foaf:Person ;\n",
        "    foaf:knows pp:linda, pp:mark ;\n",
        "    foaf:name \"Bob\" .\n",
        "\n",
        "pp:linda a foaf:Person ;\n",
        "    foaf:name \"Linda\" .\n",
        "\n",
        "pp:mark foaf:name \"Mark\" .\n",
        "'''\n",
        "\n",
        "g = rdflib.Graph()\n",
        "g.parse( data=rdf_text, format='turtle' )"
      ],
      "execution_count": 54,
      "outputs": [
        {
          "output_type": "execute_result",
          "data": {
            "text/plain": [
              "<Graph identifier=N5dc4aeeae91a49329c13a508f81925a5 (<class 'rdflib.graph.Graph'>)>"
            ]
          },
          "metadata": {
            "tags": []
          },
          "execution_count": 54
        }
      ]
    },
    {
      "cell_type": "code",
      "metadata": {
        "colab": {
          "base_uri": "https://localhost:8080/"
        },
        "id": "8hp10QDHt3qr",
        "outputId": "8aa6180e-634c-48a9-b34f-e71b390ef33f"
      },
      "source": [
        "print(g.serialize(format=\"turtle\").decode(\"utf-8\"))"
      ],
      "execution_count": 55,
      "outputs": [
        {
          "output_type": "stream",
          "text": [
            "@prefix foaf: <http://xmlns.com/foaf/0.1/> .\n",
            "@prefix pp: <http://example.org/people/> .\n",
            "\n",
            "pp:bob a foaf:Person ;\n",
            "    foaf:knows pp:linda,\n",
            "        pp:mark ;\n",
            "    foaf:name \"Bob\" .\n",
            "\n",
            "pp:linda a foaf:Person ;\n",
            "    foaf:name \"Linda\" .\n",
            "\n",
            "pp:mark foaf:name \"Mark\" .\n",
            "\n",
            "\n"
          ],
          "name": "stdout"
        }
      ]
    },
    {
      "cell_type": "code",
      "metadata": {
        "colab": {
          "base_uri": "https://localhost:8080/"
        },
        "id": "8j1Prg675Te9",
        "outputId": "7c5cd176-f101-4443-fed3-06c2ce3b1d84"
      },
      "source": [
        "for s, p, o in g:\n",
        "    print(s, p, o)"
      ],
      "execution_count": 56,
      "outputs": [
        {
          "output_type": "stream",
          "text": [
            "http://example.org/people/linda http://www.w3.org/1999/02/22-rdf-syntax-ns#type http://xmlns.com/foaf/0.1/Person\n",
            "http://example.org/people/bob http://xmlns.com/foaf/0.1/knows http://example.org/people/linda\n",
            "http://example.org/people/bob http://www.w3.org/1999/02/22-rdf-syntax-ns#type http://xmlns.com/foaf/0.1/Person\n",
            "http://example.org/people/bob http://xmlns.com/foaf/0.1/name Bob\n",
            "http://example.org/people/bob http://xmlns.com/foaf/0.1/knows http://example.org/people/mark\n",
            "http://example.org/people/mark http://xmlns.com/foaf/0.1/name Mark\n",
            "http://example.org/people/linda http://xmlns.com/foaf/0.1/name Linda\n"
          ],
          "name": "stdout"
        }
      ]
    },
    {
      "cell_type": "markdown",
      "metadata": {
        "id": "D9tbE1RDxE-H"
      },
      "source": [
        "## Basic Query"
      ]
    },
    {
      "cell_type": "code",
      "metadata": {
        "colab": {
          "base_uri": "https://localhost:8080/"
        },
        "id": "alBiHZYBxHlZ",
        "outputId": "dfa45140-898c-4178-89f0-77fc36197bff"
      },
      "source": [
        "rdf_text = '''\n",
        "@prefix foaf: <http://xmlns.com/foaf/0.1/> .\n",
        "@prefix pp: <http://example.org/people/> .\n",
        "\n",
        "pp:bob a foaf:Person ;\n",
        "    foaf:knows pp:linda, pp:mark ;\n",
        "    foaf:name \"Bob\" .\n",
        "\n",
        "pp:linda a foaf:Person ;\n",
        "    foaf:name \"Linda\" .\n",
        "\n",
        "pp:mark foaf:name \"Mark\" .\n",
        "'''\n",
        "\n",
        "g = rdflib.Graph()\n",
        "g.parse( data=rdf_text, format='turtle' )"
      ],
      "execution_count": 57,
      "outputs": [
        {
          "output_type": "execute_result",
          "data": {
            "text/plain": [
              "<Graph identifier=N951ca776e90d4ebe8e982594f7b19363 (<class 'rdflib.graph.Graph'>)>"
            ]
          },
          "metadata": {
            "tags": []
          },
          "execution_count": 57
        }
      ]
    },
    {
      "cell_type": "code",
      "metadata": {
        "colab": {
          "base_uri": "https://localhost:8080/"
        },
        "id": "YgVDgbxyxNyP",
        "outputId": "3ac9b09a-a789-42f9-d4be-e835cbaf8e15"
      },
      "source": [
        "print(g.serialize(format=\"turtle\").decode(\"utf-8\"))"
      ],
      "execution_count": 58,
      "outputs": [
        {
          "output_type": "stream",
          "text": [
            "@prefix foaf: <http://xmlns.com/foaf/0.1/> .\n",
            "@prefix pp: <http://example.org/people/> .\n",
            "\n",
            "pp:bob a foaf:Person ;\n",
            "    foaf:knows pp:linda,\n",
            "        pp:mark ;\n",
            "    foaf:name \"Bob\" .\n",
            "\n",
            "pp:linda a foaf:Person ;\n",
            "    foaf:name \"Linda\" .\n",
            "\n",
            "pp:mark foaf:name \"Mark\" .\n",
            "\n",
            "\n"
          ],
          "name": "stdout"
        }
      ]
    },
    {
      "cell_type": "code",
      "metadata": {
        "id": "qcd_FonsxZS7"
      },
      "source": [
        "res = g.query('SELECT ?s ?p ?o WHERE { ?s ?p ?o .}')"
      ],
      "execution_count": 59,
      "outputs": []
    },
    {
      "cell_type": "code",
      "metadata": {
        "colab": {
          "base_uri": "https://localhost:8080/"
        },
        "id": "Srs5txVeyEqo",
        "outputId": "dfaaf5b2-d1d5-4903-f37f-2372db36a850"
      },
      "source": [
        "res"
      ],
      "execution_count": 60,
      "outputs": [
        {
          "output_type": "execute_result",
          "data": {
            "text/plain": [
              "<rdflib.plugins.sparql.processor.SPARQLResult at 0x7fa9dc295da0>"
            ]
          },
          "metadata": {
            "tags": []
          },
          "execution_count": 60
        }
      ]
    },
    {
      "cell_type": "code",
      "metadata": {
        "colab": {
          "base_uri": "https://localhost:8080/"
        },
        "id": "YCmUuhnJzNOv",
        "outputId": "c8bbdf91-a442-43a6-eae3-68b917f58d3a"
      },
      "source": [
        "for row in res:\n",
        "  print(row)"
      ],
      "execution_count": 61,
      "outputs": [
        {
          "output_type": "stream",
          "text": [
            "(rdflib.term.URIRef('http://example.org/people/bob'), rdflib.term.URIRef('http://www.w3.org/1999/02/22-rdf-syntax-ns#type'), rdflib.term.URIRef('http://xmlns.com/foaf/0.1/Person'))\n",
            "(rdflib.term.URIRef('http://example.org/people/bob'), rdflib.term.URIRef('http://xmlns.com/foaf/0.1/knows'), rdflib.term.URIRef('http://example.org/people/linda'))\n",
            "(rdflib.term.URIRef('http://example.org/people/bob'), rdflib.term.URIRef('http://xmlns.com/foaf/0.1/name'), rdflib.term.Literal('Bob'))\n",
            "(rdflib.term.URIRef('http://example.org/people/linda'), rdflib.term.URIRef('http://www.w3.org/1999/02/22-rdf-syntax-ns#type'), rdflib.term.URIRef('http://xmlns.com/foaf/0.1/Person'))\n",
            "(rdflib.term.URIRef('http://example.org/people/linda'), rdflib.term.URIRef('http://xmlns.com/foaf/0.1/name'), rdflib.term.Literal('Linda'))\n",
            "(rdflib.term.URIRef('http://example.org/people/mark'), rdflib.term.URIRef('http://xmlns.com/foaf/0.1/name'), rdflib.term.Literal('Mark'))\n",
            "(rdflib.term.URIRef('http://example.org/people/bob'), rdflib.term.URIRef('http://xmlns.com/foaf/0.1/knows'), rdflib.term.URIRef('http://example.org/people/mark'))\n"
          ],
          "name": "stdout"
        }
      ]
    },
    {
      "cell_type": "code",
      "metadata": {
        "colab": {
          "base_uri": "https://localhost:8080/"
        },
        "id": "p5YzrwO00QWj",
        "outputId": "1435511d-35f9-426b-8a31-26a5fb50d1a8"
      },
      "source": [
        "for row in res:\n",
        "  print(row[0])"
      ],
      "execution_count": 62,
      "outputs": [
        {
          "output_type": "stream",
          "text": [
            "http://example.org/people/bob\n",
            "http://example.org/people/bob\n",
            "http://example.org/people/bob\n",
            "http://example.org/people/linda\n",
            "http://example.org/people/linda\n",
            "http://example.org/people/mark\n",
            "http://example.org/people/bob\n"
          ],
          "name": "stdout"
        }
      ]
    },
    {
      "cell_type": "code",
      "metadata": {
        "colab": {
          "base_uri": "https://localhost:8080/"
        },
        "id": "zh6I3G0HzTmV",
        "outputId": "7136f2db-e29d-4658-92cd-783c1e9f8707"
      },
      "source": [
        "for row in res:\n",
        "  s, p, o = row\n",
        "  print(s, p, o)"
      ],
      "execution_count": 63,
      "outputs": [
        {
          "output_type": "stream",
          "text": [
            "http://example.org/people/bob http://www.w3.org/1999/02/22-rdf-syntax-ns#type http://xmlns.com/foaf/0.1/Person\n",
            "http://example.org/people/bob http://xmlns.com/foaf/0.1/knows http://example.org/people/linda\n",
            "http://example.org/people/bob http://xmlns.com/foaf/0.1/name Bob\n",
            "http://example.org/people/linda http://www.w3.org/1999/02/22-rdf-syntax-ns#type http://xmlns.com/foaf/0.1/Person\n",
            "http://example.org/people/linda http://xmlns.com/foaf/0.1/name Linda\n",
            "http://example.org/people/mark http://xmlns.com/foaf/0.1/name Mark\n",
            "http://example.org/people/bob http://xmlns.com/foaf/0.1/knows http://example.org/people/mark\n"
          ],
          "name": "stdout"
        }
      ]
    },
    {
      "cell_type": "code",
      "metadata": {
        "id": "w_6qxGjnzoyu"
      },
      "source": [
        "spql = 'SELECT ?o WHERE { ?s foaf:knows ?o .}'\n",
        "\n",
        "res = g.query(spql, initNs={\"foaf\":FOAF})"
      ],
      "execution_count": 64,
      "outputs": []
    },
    {
      "cell_type": "code",
      "metadata": {
        "colab": {
          "base_uri": "https://localhost:8080/"
        },
        "id": "Pqg-9Y72zxUp",
        "outputId": "9a5fa6e3-7620-4572-d906-cf2edca1322f"
      },
      "source": [
        "for row in res:\n",
        "  print(row[0])"
      ],
      "execution_count": 65,
      "outputs": [
        {
          "output_type": "stream",
          "text": [
            "http://example.org/people/linda\n",
            "http://example.org/people/mark\n"
          ],
          "name": "stdout"
        }
      ]
    },
    {
      "cell_type": "markdown",
      "metadata": {
        "id": "A1HWtgpvFmjM"
      },
      "source": [
        "## Advanced Semantic Technology"
      ]
    },
    {
      "cell_type": "markdown",
      "metadata": {
        "id": "yKTvOK9EaG7E"
      },
      "source": [
        "### Ontology Preparation"
      ]
    },
    {
      "cell_type": "code",
      "metadata": {
        "colab": {
          "base_uri": "https://localhost:8080/"
        },
        "id": "a04aGhPwFrit",
        "outputId": "e11c30eb-cc84-4b8d-f79d-5585fb10f2a1"
      },
      "source": [
        "rdf_text = '''\n",
        "@prefix foaf: <http://xmlns.com/foaf/0.1/> .\n",
        "@prefix pp: <http://example.org/people/> .\n",
        "\n",
        "pp:bob a foaf:Person ;\n",
        "    foaf:knows pp:linda, pp:mark ;\n",
        "    foaf:name \"Bob\" .\n",
        "\n",
        "pp:linda a foaf:Person ;\n",
        "    foaf:name \"Linda\" .\n",
        "\n",
        "pp:mark foaf:name \"Mark\" .\n",
        "'''\n",
        "\n",
        "rdf_data = rdflib.Graph()\n",
        "rdf_data.parse( data=rdf_text, format='turtle' )"
      ],
      "execution_count": 66,
      "outputs": [
        {
          "output_type": "execute_result",
          "data": {
            "text/plain": [
              "<Graph identifier=N2006858afaf54b279e91a29d34ae78df (<class 'rdflib.graph.Graph'>)>"
            ]
          },
          "metadata": {
            "tags": []
          },
          "execution_count": 66
        }
      ]
    },
    {
      "cell_type": "code",
      "metadata": {
        "colab": {
          "base_uri": "https://localhost:8080/"
        },
        "id": "5x4VJzS_XMYc",
        "outputId": "30ef822a-8a4d-42f3-ff5a-6ab8939a5826"
      },
      "source": [
        "onto_text = '''\n",
        "@prefix rdf: <http://www.w3.org/1999/02/22-rdf-syntax-ns#> .\n",
        "@prefix foaf: <http://xmlns.com/foaf/0.1/> .\n",
        "@prefix owl: <http://www.w3.org/2002/07/owl#> .\n",
        "@prefix rdfs: <http://www.w3.org/2000/01/rdf-schema#> .\n",
        "\n",
        "foaf:Person rdfs:subClassOf foaf:Agent .\n",
        "\n",
        "foaf:knows rdf:type owl:SymmetricProperty .\n",
        "foaf:knows rdfs:domain foaf:Person .\n",
        "foaf:knows rdfs:range foaf:Person .\n",
        "\n",
        "'''\n",
        "\n",
        "my_onto = rdflib.Graph()\n",
        "my_onto.parse( data=onto_text, format='turtle' )"
      ],
      "execution_count": 67,
      "outputs": [
        {
          "output_type": "execute_result",
          "data": {
            "text/plain": [
              "<Graph identifier=Nd540263a4ff5470d87b07590ea70ae21 (<class 'rdflib.graph.Graph'>)>"
            ]
          },
          "metadata": {
            "tags": []
          },
          "execution_count": 67
        }
      ]
    },
    {
      "cell_type": "code",
      "metadata": {
        "colab": {
          "base_uri": "https://localhost:8080/"
        },
        "id": "NGPYl-xrYe7A",
        "outputId": "e8df7b8d-ffa8-4d33-90f0-bd0ee7e52705"
      },
      "source": [
        "print(rdf_data.serialize(format=\"turtle\").decode(\"utf-8\"))"
      ],
      "execution_count": 68,
      "outputs": [
        {
          "output_type": "stream",
          "text": [
            "@prefix foaf: <http://xmlns.com/foaf/0.1/> .\n",
            "@prefix pp: <http://example.org/people/> .\n",
            "\n",
            "pp:bob a foaf:Person ;\n",
            "    foaf:knows pp:linda,\n",
            "        pp:mark ;\n",
            "    foaf:name \"Bob\" .\n",
            "\n",
            "pp:linda a foaf:Person ;\n",
            "    foaf:name \"Linda\" .\n",
            "\n",
            "pp:mark foaf:name \"Mark\" .\n",
            "\n",
            "\n"
          ],
          "name": "stdout"
        }
      ]
    },
    {
      "cell_type": "code",
      "metadata": {
        "colab": {
          "base_uri": "https://localhost:8080/"
        },
        "id": "a_YeXL4SYgni",
        "outputId": "0acdd157-ef57-4698-e500-163149de72d3"
      },
      "source": [
        "print(my_onto.serialize(format=\"turtle\").decode(\"utf-8\"))"
      ],
      "execution_count": 69,
      "outputs": [
        {
          "output_type": "stream",
          "text": [
            "@prefix foaf: <http://xmlns.com/foaf/0.1/> .\n",
            "@prefix owl: <http://www.w3.org/2002/07/owl#> .\n",
            "@prefix rdfs: <http://www.w3.org/2000/01/rdf-schema#> .\n",
            "\n",
            "foaf:knows a owl:SymmetricProperty ;\n",
            "    rdfs:domain foaf:Person ;\n",
            "    rdfs:range foaf:Person .\n",
            "\n",
            "foaf:Person rdfs:subClassOf foaf:Agent .\n",
            "\n",
            "\n"
          ],
          "name": "stdout"
        }
      ]
    },
    {
      "cell_type": "code",
      "metadata": {
        "id": "21nthwdiaQOF"
      },
      "source": [
        "g = my_onto + rdf_data"
      ],
      "execution_count": 70,
      "outputs": []
    },
    {
      "cell_type": "code",
      "metadata": {
        "colab": {
          "base_uri": "https://localhost:8080/"
        },
        "id": "ofQBH477aT4Z",
        "outputId": "20aeba48-0c47-4142-d287-e01aefc1735d"
      },
      "source": [
        "print(g.serialize(format=\"turtle\").decode(\"utf-8\"))"
      ],
      "execution_count": 71,
      "outputs": [
        {
          "output_type": "stream",
          "text": [
            "@prefix foaf: <http://xmlns.com/foaf/0.1/> .\n",
            "@prefix owl: <http://www.w3.org/2002/07/owl#> .\n",
            "@prefix pp: <http://example.org/people/> .\n",
            "@prefix rdfs: <http://www.w3.org/2000/01/rdf-schema#> .\n",
            "\n",
            "pp:bob a foaf:Person ;\n",
            "    foaf:knows pp:linda,\n",
            "        pp:mark ;\n",
            "    foaf:name \"Bob\" .\n",
            "\n",
            "foaf:knows a owl:SymmetricProperty ;\n",
            "    rdfs:domain foaf:Person ;\n",
            "    rdfs:range foaf:Person .\n",
            "\n",
            "pp:linda a foaf:Person ;\n",
            "    foaf:name \"Linda\" .\n",
            "\n",
            "pp:mark foaf:name \"Mark\" .\n",
            "\n",
            "foaf:Person rdfs:subClassOf foaf:Agent .\n",
            "\n",
            "\n"
          ],
          "name": "stdout"
        }
      ]
    },
    {
      "cell_type": "markdown",
      "metadata": {
        "id": "0Z18EHh0aZNL"
      },
      "source": [
        "### Try to Query"
      ]
    },
    {
      "cell_type": "code",
      "metadata": {
        "colab": {
          "base_uri": "https://localhost:8080/"
        },
        "id": "8NQLPcQ9afF9",
        "outputId": "48206ec2-0eff-4d9f-eb85-ab6a23e36782"
      },
      "source": [
        "# Type of Bob\n",
        "\n",
        "spql = 'SELECT * WHERE { pp:bob rdf:type ?o .}'\n",
        "res = g.query(spql, initNs={\"foaf\":FOAF, \"pp\":pp})\n",
        "\n",
        "for row in res:\n",
        "  print(row)"
      ],
      "execution_count": 72,
      "outputs": [
        {
          "output_type": "stream",
          "text": [
            "(rdflib.term.URIRef('http://xmlns.com/foaf/0.1/Person'),)\n"
          ],
          "name": "stdout"
        }
      ]
    },
    {
      "cell_type": "code",
      "metadata": {
        "colab": {
          "base_uri": "https://localhost:8080/"
        },
        "id": "Oilg5DcsawmF",
        "outputId": "f490a990-69aa-4317-df24-bc72cc4a2ad2"
      },
      "source": [
        "# Who are Peoson?\n",
        "\n",
        "spql = 'SELECT * WHERE { ?x rdf:type foaf:Person .}'\n",
        "res = g.query(spql, initNs={\"foaf\":FOAF, \"pp\":pp})\n",
        "\n",
        "for row in res:\n",
        "  print(row)"
      ],
      "execution_count": 73,
      "outputs": [
        {
          "output_type": "stream",
          "text": [
            "(rdflib.term.URIRef('http://example.org/people/bob'),)\n",
            "(rdflib.term.URIRef('http://example.org/people/linda'),)\n"
          ],
          "name": "stdout"
        }
      ]
    },
    {
      "cell_type": "code",
      "metadata": {
        "colab": {
          "base_uri": "https://localhost:8080/"
        },
        "id": "PPcA3m2ybDtF",
        "outputId": "f36722d2-4f84-4a6d-c8b6-445310ab7df4"
      },
      "source": [
        "# Who nows whom?\n",
        "\n",
        "spql = 'SELECT * WHERE { ?x foaf:knows ?y .}'\n",
        "res = g.query(spql, initNs={\"foaf\":FOAF, \"pp\":pp})\n",
        "\n",
        "for row in res:\n",
        "  print(row)"
      ],
      "execution_count": 74,
      "outputs": [
        {
          "output_type": "stream",
          "text": [
            "(rdflib.term.URIRef('http://example.org/people/bob'), rdflib.term.URIRef('http://example.org/people/linda'))\n",
            "(rdflib.term.URIRef('http://example.org/people/bob'), rdflib.term.URIRef('http://example.org/people/mark'))\n"
          ],
          "name": "stdout"
        }
      ]
    },
    {
      "cell_type": "markdown",
      "metadata": {
        "id": "_I_Ve-2HLPMu"
      },
      "source": [
        "### RDFS Reasoning\n",
        "\n"
      ]
    },
    {
      "cell_type": "code",
      "metadata": {
        "id": "Niy9k81VGZLO"
      },
      "source": [
        "owlrl.DeductiveClosure(owlrl.RDFS_Semantics, datatype_axioms=True).expand(g)"
      ],
      "execution_count": 75,
      "outputs": []
    },
    {
      "cell_type": "code",
      "metadata": {
        "colab": {
          "base_uri": "https://localhost:8080/"
        },
        "id": "pf_Giku3JIkt",
        "outputId": "a94f8f8f-6b46-403e-db2c-c496c6a6a280"
      },
      "source": [
        "# Type of Bob\n",
        "\n",
        "spql = 'SELECT ?o WHERE { pp:bob rdf:type ?o .}'\n",
        "res = g.query(spql, initNs={\"foaf\":FOAF, \"pp\":pp})\n",
        "\n",
        "for row in res:\n",
        "  print(row)"
      ],
      "execution_count": 76,
      "outputs": [
        {
          "output_type": "stream",
          "text": [
            "(rdflib.term.URIRef('http://xmlns.com/foaf/0.1/Agent'),)\n",
            "(rdflib.term.URIRef('http://xmlns.com/foaf/0.1/Person'),)\n",
            "(rdflib.term.URIRef('http://www.w3.org/2000/01/rdf-schema#Resource'),)\n"
          ],
          "name": "stdout"
        }
      ]
    },
    {
      "cell_type": "code",
      "metadata": {
        "colab": {
          "base_uri": "https://localhost:8080/"
        },
        "id": "u2HUEPGfLn_v",
        "outputId": "e5dff1f3-11ff-417a-8b25-7cafeda49c42"
      },
      "source": [
        "# Who are Person?\n",
        "\n",
        "spql = 'SELECT ?x WHERE { ?x rdf:type foaf:Person .}'\n",
        "res = g.query(spql, initNs={\"foaf\":FOAF, \"pp\":pp})\n",
        "\n",
        "for row in res:\n",
        "  print(row[0])"
      ],
      "execution_count": 77,
      "outputs": [
        {
          "output_type": "stream",
          "text": [
            "http://example.org/people/bob\n",
            "http://example.org/people/mark\n",
            "http://example.org/people/linda\n"
          ],
          "name": "stdout"
        }
      ]
    },
    {
      "cell_type": "code",
      "metadata": {
        "colab": {
          "base_uri": "https://localhost:8080/"
        },
        "id": "BzuX6fbNMlvr",
        "outputId": "67e9e9da-9902-4fb9-d50f-a88be2d63c76"
      },
      "source": [
        "# Who nows whom?\n",
        "\n",
        "spql = 'SELECT * WHERE { ?x foaf:knows ?y.}'\n",
        "res = g.query(spql, initNs={\"foaf\":FOAF, \"pp\":pp})\n",
        "\n",
        "for row in res:\n",
        "  print(row)"
      ],
      "execution_count": 78,
      "outputs": [
        {
          "output_type": "stream",
          "text": [
            "(rdflib.term.URIRef('http://example.org/people/bob'), rdflib.term.URIRef('http://example.org/people/linda'))\n",
            "(rdflib.term.URIRef('http://example.org/people/bob'), rdflib.term.URIRef('http://example.org/people/mark'))\n"
          ],
          "name": "stdout"
        }
      ]
    },
    {
      "cell_type": "markdown",
      "metadata": {
        "id": "Gaq0LPxLbyZj"
      },
      "source": [
        "### OWL Reasoning"
      ]
    },
    {
      "cell_type": "code",
      "metadata": {
        "id": "Paz_TbyFNyZn"
      },
      "source": [
        "owlrl.DeductiveClosure(owlrl.OWLRL_Extension).expand(g)"
      ],
      "execution_count": 79,
      "outputs": []
    },
    {
      "cell_type": "code",
      "metadata": {
        "colab": {
          "base_uri": "https://localhost:8080/"
        },
        "id": "OjrrBiTDb26N",
        "outputId": "4db5fdb9-a441-481a-f816-e776caecb639"
      },
      "source": [
        "# Who nows whom?\n",
        "\n",
        "spql = 'SELECT * WHERE { ?x foaf:knows ?y.}'\n",
        "res = g.query(spql, initNs={\"foaf\":FOAF, \"pp\":pp})\n",
        "\n",
        "for row in res:\n",
        "  print(row)"
      ],
      "execution_count": 80,
      "outputs": [
        {
          "output_type": "stream",
          "text": [
            "(rdflib.term.URIRef('http://example.org/people/bob'), rdflib.term.URIRef('http://example.org/people/linda'))\n",
            "(rdflib.term.URIRef('http://example.org/people/linda'), rdflib.term.URIRef('http://example.org/people/bob'))\n",
            "(rdflib.term.URIRef('http://example.org/people/mark'), rdflib.term.URIRef('http://example.org/people/bob'))\n",
            "(rdflib.term.URIRef('http://example.org/people/bob'), rdflib.term.URIRef('http://example.org/people/mark'))\n"
          ],
          "name": "stdout"
        }
      ]
    },
    {
      "cell_type": "markdown",
      "metadata": {
        "id": "1L4_d_CAcgrf"
      },
      "source": [
        "## Pratical Example"
      ]
    },
    {
      "cell_type": "markdown",
      "metadata": {
        "id": "JzrhSFpKkzjl"
      },
      "source": [
        "### Select Well-known Ontologies"
      ]
    },
    {
      "cell_type": "code",
      "metadata": {
        "id": "IdyHq0r3cojs"
      },
      "source": [
        "dc_onto = rdflib.Graph().parse(\"https://www.dublincore.org/specifications/dublin-core/dcmi-terms/dublin_core_terms.ttl\", format=\"turtle\")\n",
        "foaf_onto = rdflib.Graph().parse(\"http://xmlns.com/foaf/spec/index.rdf\", format=\"xml\")\n",
        "skos_onto = rdflib.Graph().parse(\"http://www.w3.org/TR/skos-reference/skos.rdf\", format=\"xml\")\n"
      ],
      "execution_count": 81,
      "outputs": []
    },
    {
      "cell_type": "code",
      "metadata": {
        "colab": {
          "base_uri": "https://localhost:8080/"
        },
        "id": "VMHEjMuGdvGC",
        "outputId": "a1881ff2-dc93-438c-d6d6-f8ae6b4ffc52"
      },
      "source": [
        "print(\"DC --> ....\", dc_onto.serialize(format=\"turtle\").decode(\"utf-8\")[500:800], \" ... and more ...\")\n",
        "print(\"--------------------------------\")\n",
        "print(\"FOAF --> ....\", foaf_onto.serialize(format=\"turtle\").decode(\"utf-8\")[500:800], \" ... and more ...\")\n",
        "print(\"--------------------------------\")\n",
        "print(\"SKOS --> ....\", skos_onto.serialize(format=\"turtle\").decode(\"utf-8\")[500:800], \" ... and more ...\")"
      ],
      "execution_count": 82,
      "outputs": [
        {
          "output_type": "stream",
          "text": [
            "DC --> .... @en ;\n",
            "    rdfs:isDefinedBy dcterms: .\n",
            "\n",
            "dcterms:AgentClass a rdfs:Class ;\n",
            "    rdfs:label \"Agent Class\"@en ;\n",
            "    dcterms:issued \"2008-01-14\"^^xsd:date ;\n",
            "    rdfs:comment \"A group of agents.\"@en ;\n",
            "    rdfs:isDefinedBy dcterms: ;\n",
            "    rdfs:subClassOf rdfs:Class .\n",
            "\n",
            "dcterms:BibliographicResource a rdfs:Cla  ... and more ...\n",
            "--------------------------------\n",
            "FOAF --> .... al artifact).\" ;\n",
            "    owl:equivalentClass <http://purl.org/dc/terms/Agent> ;\n",
            "    vs:term_status \"stable\" .\n",
            "\n",
            "foaf:Document a rdfs:Class,\n",
            "        owl:Class ;\n",
            "    rdfs:label \"Document\" ;\n",
            "    rdfs:comment \"A document.\" ;\n",
            "    rdfs:isDefinedBy foaf: ;\n",
            "    owl:disjointWith foaf:Organization,\n",
            "        foaf:Pr  ... and more ...\n",
            "--------------------------------\n",
            "SKOS --> .... :hiddenLabel are pairwise disjoint properties.\"@en ;\n",
            "    rdfs:isDefinedBy <http://www.w3.org/2004/02/skos/core> ;\n",
            "    rdfs:subPropertyOf rdfs:label ;\n",
            "    skos:definition \"An alternative lexical label for a resource.\"@en ;\n",
            "    skos:example \"Acronyms, abbreviations, spelling variants, and irregular pl  ... and more ...\n"
          ],
          "name": "stdout"
        }
      ]
    },
    {
      "cell_type": "markdown",
      "metadata": {
        "id": "4pHCxAmPk5rC"
      },
      "source": [
        "### Create your Customed Ontology"
      ]
    },
    {
      "cell_type": "code",
      "metadata": {
        "colab": {
          "base_uri": "https://localhost:8080/"
        },
        "id": "ozPsIT6xg4M3",
        "outputId": "b19ee1b2-2008-4662-fd35-954d4602a264"
      },
      "source": [
        "rc_onto_text = '''\n",
        "@prefix rc: <http://rathachai.ch/rc/0.1/> .\n",
        "@prefix owl: <http://www.w3.org/2002/07/owl#> .\n",
        "@prefix rdfs: <http://www.w3.org/2000/01/rdf-schema#> .\n",
        "@prefix dcterms: <http://purl.org/dc/terms/> .\n",
        "@prefix foaf: <http://xmlns.com/foaf/0.1/> .\n",
        "\n",
        "\n",
        "\n",
        "rc:write rdfs:domain foaf:Person .\n",
        "rc:write rdfs:range foaf:Document .\n",
        "rc:write owl:inverseOf rc:writtenBy .\n",
        "rc:write rdfs:subPropertyOf dcterms:creator .\n",
        "\n",
        "\n",
        "'''\n",
        "\n",
        "rc_onto = rdflib.Graph().parse( data=rc_onto_text, format='turtle' )\n",
        "print(\"RC ONTO --> ....\",rc_onto.serialize(format=\"turtle\").decode(\"utf-8\"))"
      ],
      "execution_count": 83,
      "outputs": [
        {
          "output_type": "stream",
          "text": [
            "RC ONTO --> .... @prefix dcterms: <http://purl.org/dc/terms/> .\n",
            "@prefix foaf: <http://xmlns.com/foaf/0.1/> .\n",
            "@prefix owl: <http://www.w3.org/2002/07/owl#> .\n",
            "@prefix rc: <http://rathachai.ch/rc/0.1/> .\n",
            "@prefix rdfs: <http://www.w3.org/2000/01/rdf-schema#> .\n",
            "\n",
            "rc:write rdfs:domain foaf:Person ;\n",
            "    rdfs:range foaf:Document ;\n",
            "    rdfs:subPropertyOf dcterms:creator ;\n",
            "    owl:inverseOf rc:writtenBy .\n",
            "\n",
            "\n"
          ],
          "name": "stdout"
        }
      ]
    },
    {
      "cell_type": "markdown",
      "metadata": {
        "id": "Rcj7m1Jtk_lH"
      },
      "source": [
        "### Create your RDF Data"
      ]
    },
    {
      "cell_type": "code",
      "metadata": {
        "colab": {
          "base_uri": "https://localhost:8080/"
        },
        "id": "kdLl4Yu1eP6u",
        "outputId": "15d74835-e3d0-41e1-a4a8-d1233e98e184"
      },
      "source": [
        "my_rdf_text = '''\n",
        "@prefix rdf: <http://www.w3.org/1999/02/22-rdf-syntax-ns#> .\n",
        "@prefix owl: <http://www.w3.org/2002/07/owl#> .\n",
        "@prefix skos: <http://www.w3.org/2004/02/skos/core#> .\n",
        "@prefix dcam: <http://purl.org/dc/dcam/> .\n",
        "@prefix dcterms: <http://purl.org/dc/terms/> .\n",
        "@prefix rdfs: <http://www.w3.org/2000/01/rdf-schema#> .\n",
        "@prefix foaf: <http://xmlns.com/foaf/0.1/> .\n",
        "\n",
        "@prefix rc: <http://rathachai.ch/rc/0.1/> .\n",
        "\n",
        "@prefix pp: <http://example.org/people/> .\n",
        "@prefix ex: <http://example.org/> .\n",
        "\n",
        "\n",
        "\n",
        "pp:jkrowling rc:write ex:harry_potter .\n",
        "\n",
        "ex:harry_potter skos:broaderTransitive ex:Fantacy .\n",
        "ex:Fantacy skos:broaderTransitive ex:Story .\n",
        "\n",
        "'''\n",
        "\n",
        "my_rdf = rdflib.Graph().parse( data=my_rdf_text, format='turtle' )\n",
        "print(my_rdf.serialize(format=\"turtle\").decode(\"utf-8\"))"
      ],
      "execution_count": 84,
      "outputs": [
        {
          "output_type": "stream",
          "text": [
            "@prefix ex: <http://example.org/> .\n",
            "@prefix pp: <http://example.org/people/> .\n",
            "@prefix rc: <http://rathachai.ch/rc/0.1/> .\n",
            "@prefix skos: <http://www.w3.org/2004/02/skos/core#> .\n",
            "\n",
            "pp:jkrowling rc:write ex:harry_potter .\n",
            "\n",
            "ex:Fantacy skos:broaderTransitive ex:Story .\n",
            "\n",
            "ex:harry_potter skos:broaderTransitive ex:Fantacy .\n",
            "\n",
            "\n"
          ],
          "name": "stdout"
        }
      ]
    },
    {
      "cell_type": "markdown",
      "metadata": {
        "id": "nnZRWEhVlDEp"
      },
      "source": [
        "### Combine data and ontologies"
      ]
    },
    {
      "cell_type": "code",
      "metadata": {
        "id": "W9v9eQjqkk--"
      },
      "source": [
        "g = dc_onto + foaf_onto + skos_onto + rc_onto + my_rdf"
      ],
      "execution_count": 85,
      "outputs": []
    },
    {
      "cell_type": "markdown",
      "metadata": {
        "id": "E5L6DSxplMa8"
      },
      "source": [
        "### Deductive Closure"
      ]
    },
    {
      "cell_type": "code",
      "metadata": {
        "id": "acXHdKJ0lJtk"
      },
      "source": [
        "owlrl.DeductiveClosure(owlrl.RDFS_Semantics, datatype_axioms=True).expand(g)\n",
        "owlrl.DeductiveClosure(owlrl.OWLRL_Extension, datatype_axioms=True).expand(g)"
      ],
      "execution_count": 86,
      "outputs": []
    },
    {
      "cell_type": "markdown",
      "metadata": {
        "id": "628vAJGRv-MS"
      },
      "source": [
        "### Query"
      ]
    },
    {
      "cell_type": "code",
      "metadata": {
        "colab": {
          "base_uri": "https://localhost:8080/"
        },
        "id": "uG4a77k5kuyv",
        "outputId": "a3d18e2f-5adb-4e63-b86d-f01cdd580d80"
      },
      "source": [
        "# What is Harry Potter?\n",
        "\n",
        "spql = 'SELECT ?p ?o WHERE { ex:harry_potter ?p ?o.}'\n",
        "res = g.query(spql, initNs={\"foaf\":FOAF, \"pp\":pp, \"ex\":\"http://example.org/\"})\n",
        "\n",
        "for row in res:\n",
        "  print(row[\"p\"], row[\"o\"])"
      ],
      "execution_count": 87,
      "outputs": [
        {
          "output_type": "stream",
          "text": [
            "http://www.w3.org/1999/02/22-rdf-syntax-ns#type http://www.w3.org/2000/01/rdf-schema#Resource\n",
            "http://www.w3.org/2004/02/skos/core#broaderTransitive http://example.org/Story\n",
            "http://www.w3.org/2004/02/skos/core#semanticRelation http://example.org/Story\n",
            "http://www.w3.org/1999/02/22-rdf-syntax-ns#type http://xmlns.com/foaf/0.1/Agent\n",
            "http://xmlns.com/foaf/0.1/made http://example.org/people/jkrowling\n",
            "http://www.w3.org/1999/02/22-rdf-syntax-ns#type http://www.w3.org/2004/02/skos/core#Concept\n",
            "http://www.w3.org/1999/02/22-rdf-syntax-ns#type Nab19e3a1cb7e4c7d835b6e04cb1e6b9a\n",
            "http://www.w3.org/2004/02/skos/core#semanticRelation http://example.org/Fantacy\n",
            "http://www.w3.org/2004/02/skos/core#broaderTransitive http://example.org/Fantacy\n",
            "http://www.w3.org/1999/02/22-rdf-syntax-ns#type http://xmlns.com/foaf/0.1/Document\n",
            "http://rathachai.ch/rc/0.1/writtenBy http://example.org/people/jkrowling\n",
            "http://www.w3.org/1999/02/22-rdf-syntax-ns#type http://schema.org/CreativeWork\n",
            "http://www.w3.org/2002/07/owl#sameAs http://example.org/harry_potter\n",
            "http://www.w3.org/1999/02/22-rdf-syntax-ns#type http://purl.org/dc/terms/Agent\n",
            "http://www.w3.org/1999/02/22-rdf-syntax-ns#type http://www.w3.org/2002/07/owl#Thing\n"
          ],
          "name": "stdout"
        }
      ]
    },
    {
      "cell_type": "code",
      "metadata": {
        "colab": {
          "base_uri": "https://localhost:8080/"
        },
        "id": "E1_uFzkYxcBL",
        "outputId": "7b9e351f-9d4e-4313-d5bb-933375e67234"
      },
      "source": [
        "# What is JK Rowling?\n",
        "\n",
        "spql = 'SELECT ?p ?o WHERE { pp:jkrowling ?p ?o.}'\n",
        "res = g.query(spql, initNs={\"foaf\":FOAF, \"pp\":pp, \"ex\":\"http://example.org/\"})\n",
        "\n",
        "for row in res:\n",
        "  print(row[\"p\"], row[\"o\"])"
      ],
      "execution_count": 88,
      "outputs": [
        {
          "output_type": "stream",
          "text": [
            "http://www.w3.org/1999/02/22-rdf-syntax-ns#type http://www.w3.org/2000/01/rdf-schema#Resource\n",
            "http://www.w3.org/1999/02/22-rdf-syntax-ns#type http://xmlns.com/foaf/0.1/Person\n",
            "http://www.w3.org/1999/02/22-rdf-syntax-ns#type http://www.w3.org/2002/07/owl#Thing\n",
            "http://purl.org/dc/terms/contributor http://example.org/harry_potter\n",
            "http://www.w3.org/1999/02/22-rdf-syntax-ns#type http://www.w3.org/2000/10/swap/pim/contact#Person\n",
            "http://www.w3.org/1999/02/22-rdf-syntax-ns#type http://purl.org/dc/terms/Agent\n",
            "http://rathachai.ch/rc/0.1/write http://example.org/harry_potter\n",
            "http://www.w3.org/1999/02/22-rdf-syntax-ns#type http://www.w3.org/2003/01/geo/wgs84_pos#SpatialThing\n",
            "http://www.w3.org/2002/07/owl#sameAs http://example.org/people/jkrowling\n",
            "http://www.w3.org/1999/02/22-rdf-syntax-ns#type http://schema.org/Person\n",
            "http://xmlns.com/foaf/0.1/maker http://example.org/harry_potter\n",
            "http://purl.org/dc/terms/creator http://example.org/harry_potter\n",
            "http://purl.org/dc/elements/1.1/creator http://example.org/harry_potter\n",
            "http://www.w3.org/1999/02/22-rdf-syntax-ns#type http://xmlns.com/foaf/0.1/Agent\n",
            "http://purl.org/dc/elements/1.1/contributor http://example.org/harry_potter\n"
          ],
          "name": "stdout"
        }
      ]
    },
    {
      "cell_type": "markdown",
      "metadata": {
        "id": "Qt0n7CcgyPYT"
      },
      "source": [
        "## To Query with well-known Terms"
      ]
    },
    {
      "cell_type": "code",
      "metadata": {
        "colab": {
          "base_uri": "https://localhost:8080/"
        },
        "id": "ahjMWkuHxtD-",
        "outputId": "47f4f965-f88d-48c7-d491-57af62dd21fe"
      },
      "source": [
        "# Who are Person?\n",
        "\n",
        "spql = 'SELECT ?x WHERE { ?x a foaf:Person .}'\n",
        "res = g.query(spql, initNs={\"foaf\":FOAF, \"pp\":pp, \"ex\":\"http://example.org/\"})\n",
        "\n",
        "for row in res:\n",
        "  print(row[\"x\"])"
      ],
      "execution_count": 89,
      "outputs": [
        {
          "output_type": "stream",
          "text": [
            "http://example.org/people/jkrowling\n"
          ],
          "name": "stdout"
        }
      ]
    },
    {
      "cell_type": "code",
      "metadata": {
        "colab": {
          "base_uri": "https://localhost:8080/"
        },
        "id": "bwDJJ6y3yHWC",
        "outputId": "b34b4476-518b-4746-c3b7-016dca2b3e5a"
      },
      "source": [
        "# What are Documents?\n",
        "\n",
        "spql = 'SELECT ?x WHERE { ?x a foaf:Document .}'\n",
        "res = g.query(spql, initNs={\"foaf\":FOAF, \"pp\":pp, \"ex\":\"http://example.org/\"})\n",
        "\n",
        "for row in res:\n",
        "  print(row[\"x\"])"
      ],
      "execution_count": 90,
      "outputs": [
        {
          "output_type": "stream",
          "text": [
            "http://example.org/harry_potter\n"
          ],
          "name": "stdout"
        }
      ]
    },
    {
      "cell_type": "code",
      "metadata": {
        "colab": {
          "base_uri": "https://localhost:8080/"
        },
        "id": "k9W_pYg7ycn2",
        "outputId": "d93e6873-e2e6-4187-bef5-a10eb1db1508"
      },
      "source": [
        "# Who write what?\n",
        "\n",
        "spql = 'SELECT ?x ?y WHERE { ?x dcterms:creator ?y .}'\n",
        "res = g.query(spql, initNs={\"foaf\":FOAF, \"pp\":pp, \"ex\":\"http://example.org/\", \"dcterms\":DCTERMS})\n",
        "\n",
        "for row in res:\n",
        "  print(row[\"x\"], row[\"y\"])"
      ],
      "execution_count": 91,
      "outputs": [
        {
          "output_type": "stream",
          "text": [
            "http://example.org/people/jkrowling http://example.org/harry_potter\n",
            "http://www.w3.org/2004/02/skos/core Alistair Miles\n",
            "http://www.w3.org/2004/02/skos/core Sean Bechhofer\n"
          ],
          "name": "stdout"
        }
      ]
    },
    {
      "cell_type": "code",
      "metadata": {
        "colab": {
          "base_uri": "https://localhost:8080/"
        },
        "id": "H1J7h9N5zju_",
        "outputId": "ecfff39c-cf41-4451-a11e-bd8542aa5766"
      },
      "source": [
        "# What are boader Concepts of harry potter\n",
        "\n",
        "spql = 'SELECT ?x WHERE { ex:harry_potter skos:broaderTransitive ?x .}'\n",
        "res = g.query(spql, initNs={\"foaf\":FOAF, \"pp\":pp, \"ex\":\"http://example.org/\", \"dcterms\":DCTERMS, \"skos\":SKOS})\n",
        "\n",
        "for row in res:\n",
        "  print(row[\"x\"])"
      ],
      "execution_count": 92,
      "outputs": [
        {
          "output_type": "stream",
          "text": [
            "http://example.org/Story\n",
            "http://example.org/Fantacy\n"
          ],
          "name": "stdout"
        }
      ]
    },
    {
      "cell_type": "code",
      "metadata": {
        "colab": {
          "base_uri": "https://localhost:8080/"
        },
        "id": "D9vUfwG70Vl8",
        "outputId": "31bbe2f1-ecd5-4833-8be9-d561165611d5"
      },
      "source": [
        "# What are boader Concepts of Fantacy\n",
        "\n",
        "spql = 'SELECT ?x WHERE { ex:Fantacy skos:broaderTransitive ?x .}'\n",
        "res = g.query(spql, initNs={\"foaf\":FOAF, \"pp\":pp, \"ex\":\"http://example.org/\", \"dcterms\":DCTERMS, \"skos\":SKOS})\n",
        "\n",
        "for row in res:\n",
        "  print(row[\"x\"])"
      ],
      "execution_count": 93,
      "outputs": [
        {
          "output_type": "stream",
          "text": [
            "http://example.org/Story\n"
          ],
          "name": "stdout"
        }
      ]
    },
    {
      "cell_type": "code",
      "metadata": {
        "colab": {
          "base_uri": "https://localhost:8080/"
        },
        "id": "MX521RH10CbZ",
        "outputId": "5a987ebb-89bf-410b-b6f9-8b95b5d7fd4b"
      },
      "source": [
        "# What are narrower Concepts of Fantacy\n",
        "\n",
        "spql = 'SELECT ?x WHERE { ex:Fantacy skos:narrowerTransitive ?x .}'\n",
        "res = g.query(spql, initNs={\"foaf\":FOAF, \"pp\":pp, \"ex\":\"http://example.org/\", \"dcterms\":DCTERMS, \"skos\":SKOS})\n",
        "\n",
        "for row in res:\n",
        "  print(row[\"x\"])"
      ],
      "execution_count": 94,
      "outputs": [
        {
          "output_type": "stream",
          "text": [
            "http://example.org/harry_potter\n"
          ],
          "name": "stdout"
        }
      ]
    },
    {
      "cell_type": "code",
      "metadata": {
        "colab": {
          "base_uri": "https://localhost:8080/"
        },
        "id": "qD5gIPmG0J1U",
        "outputId": "0c255eb2-2e22-48f0-c6e3-e53a987735fe"
      },
      "source": [
        "# What are narrower Concepts of Story\n",
        "\n",
        "spql = 'SELECT ?x WHERE { ex:Story skos:narrowerTransitive ?x .}'\n",
        "res = g.query(spql, initNs={\"foaf\":FOAF, \"pp\":pp, \"ex\":\"http://example.org/\", \"dcterms\":DCTERMS, \"skos\":SKOS})\n",
        "\n",
        "for row in res:\n",
        "  print(row[\"x\"])"
      ],
      "execution_count": 95,
      "outputs": [
        {
          "output_type": "stream",
          "text": [
            "http://example.org/harry_potter\n",
            "http://example.org/Fantacy\n"
          ],
          "name": "stdout"
        }
      ]
    },
    {
      "cell_type": "code",
      "metadata": {
        "colab": {
          "base_uri": "https://localhost:8080/"
        },
        "id": "yLq3NKYp6Nj3",
        "outputId": "54333879-6330-494c-e94b-11fe2b639e67"
      },
      "source": [
        "# ASK\n",
        "\n",
        "spql = 'ASK {ex:harry_potter skos:broaderTransitive ex:Story .}'\n",
        "res = g.query(spql, initNs={\"foaf\":FOAF, \"pp\":pp, \"ex\":\"http://example.org/\", \"dcterms\":DCTERMS, \"skos\":SKOS})\n",
        "\n",
        "for row in res:\n",
        "  print(row)"
      ],
      "execution_count": 96,
      "outputs": [
        {
          "output_type": "stream",
          "text": [
            "True\n"
          ],
          "name": "stdout"
        }
      ]
    },
    {
      "cell_type": "markdown",
      "metadata": {
        "id": "RokMyGlC1tHT"
      },
      "source": [
        "## To Query from other SPARQL Endpoints"
      ]
    },
    {
      "cell_type": "code",
      "metadata": {
        "id": "LiLGVbIu-1uK"
      },
      "source": [
        "ns = '''\n",
        "PREFIX owl: <http://www.w3.org/2002/07/owl#> \n",
        "PREFIX xsd: <http://www.w3.org/2001/XMLSchema#> \n",
        "PREFIX rdfs: <http://www.w3.org/2000/01/rdf-schema#> \n",
        "PREFIX rdf: <http://www.w3.org/1999/02/22-rdf-syntax-ns#> \n",
        "PREFIX foaf: <http://xmlns.com/foaf/0.1/> \n",
        "PREFIX dc: <http://purl.org/dc/elements/1.1/> \n",
        "PREFIX : <http://dbpedia.org/resource/> \n",
        "PREFIX ont: <http://dbpedia.org/ontology/>\n",
        "PREFIX dbpedia2: <http://dbpedia.org/property/> \n",
        "PREFIX dbpedia: <http://dbpedia.org/> \n",
        "PREFIX skos: <http://www.w3.org/2004/02/skos/core#> \n",
        "'''"
      ],
      "execution_count": 97,
      "outputs": []
    },
    {
      "cell_type": "code",
      "metadata": {
        "id": "1E7i35xw5T_u"
      },
      "source": [
        "sparql = SPARQLWrapper(\"http://dbpedia.org/sparql\")"
      ],
      "execution_count": 98,
      "outputs": []
    },
    {
      "cell_type": "code",
      "metadata": {
        "colab": {
          "base_uri": "https://localhost:8080/"
        },
        "id": "w1rz1aED1yfw",
        "outputId": "5f50a315-b7c3-42e5-89ce-60f355700b60"
      },
      "source": [
        "sparql.setQuery(\"\"\"\n",
        "PREFIX ont: <http://dbpedia.org/ontology/>\n",
        "\n",
        "SELECT ?a \n",
        "WHERE {<http://dbpedia.org/resource/Apple_Inc.> ont:product ?a }\n",
        "\n",
        "\"\"\")\n",
        "sparql.setReturnFormat(JSON)\n",
        "results = sparql.query().convert()\n",
        "\n",
        "for result in results[\"results\"][\"bindings\"]:\n",
        "    print(result[\"a\"][\"value\"])"
      ],
      "execution_count": 99,
      "outputs": [
        {
          "output_type": "stream",
          "text": [
            "http://dbpedia.org/resource/MacOS\n",
            "http://dbpedia.org/resource/Macintosh\n",
            "http://dbpedia.org/resource/Shazam_(application)\n",
            "http://dbpedia.org/resource/Final_Cut_Pro\n",
            "http://dbpedia.org/resource/Logic_Pro\n",
            "http://dbpedia.org/resource/GarageBand\n",
            "http://dbpedia.org/resource/HomePod\n",
            "http://dbpedia.org/resource/ILife\n",
            "http://dbpedia.org/resource/IOS\n",
            "http://dbpedia.org/resource/IPad\n",
            "http://dbpedia.org/resource/IPadOS\n",
            "http://dbpedia.org/resource/IPhone\n",
            "http://dbpedia.org/resource/IPod\n",
            "http://dbpedia.org/resource/IWork\n",
            "http://dbpedia.org/resource/Apple_TV\n",
            "http://dbpedia.org/resource/Apple_Watch\n",
            "http://dbpedia.org/resource/TvOS\n",
            "http://dbpedia.org/resource/Siri\n",
            "http://dbpedia.org/resource/WatchOS\n"
          ],
          "name": "stdout"
        }
      ]
    },
    {
      "cell_type": "code",
      "metadata": {
        "colab": {
          "base_uri": "https://localhost:8080/"
        },
        "id": "xtxNGRp29NnL",
        "outputId": "9b543902-6c71-49fe-9cb4-8212b8db136b"
      },
      "source": [
        "sparql.setQuery(\"\"\"\n",
        "PREFIX ont: <http://dbpedia.org/ontology/>\n",
        "\n",
        "SELECT ?a \n",
        "WHERE {\n",
        "  <http://dbpedia.org/resource/Apple_Inc.> ont:product ?a . \n",
        "  ?a ont:operatingSystem <http://dbpedia.org/resource/IOS> .\n",
        "  }\n",
        "\n",
        "\"\"\")\n",
        "sparql.setReturnFormat(JSON)\n",
        "results = sparql.query().convert()\n",
        "\n",
        "for result in results[\"results\"][\"bindings\"]:\n",
        "    print(result[\"a\"][\"value\"])"
      ],
      "execution_count": 100,
      "outputs": [
        {
          "output_type": "stream",
          "text": [
            "http://dbpedia.org/resource/Shazam_(application)\n",
            "http://dbpedia.org/resource/HomePod\n",
            "http://dbpedia.org/resource/ILife\n",
            "http://dbpedia.org/resource/IPad\n",
            "http://dbpedia.org/resource/IPhone\n",
            "http://dbpedia.org/resource/IWork\n",
            "http://dbpedia.org/resource/Apple_TV\n"
          ],
          "name": "stdout"
        }
      ]
    },
    {
      "cell_type": "code",
      "metadata": {
        "colab": {
          "base_uri": "https://localhost:8080/"
        },
        "id": "8KnYUvBI-Jtj",
        "outputId": "b4f6be7f-f3c6-43dd-9134-92e634f075e2"
      },
      "source": [
        "sparql.setQuery(\"\"\"\n",
        "PREFIX ont: <http://dbpedia.org/ontology/>\n",
        "\n",
        "ASK {\n",
        "  <http://dbpedia.org/resource/Apple_Inc.> ont:product <http://dbpedia.org/resource/IPhone> . \n",
        "  }\n",
        "\n",
        "\"\"\")\n",
        "sparql.setReturnFormat(JSON)\n",
        "results = sparql.query().convert()\n",
        "\n",
        "print(results[\"boolean\"])"
      ],
      "execution_count": 101,
      "outputs": [
        {
          "output_type": "stream",
          "text": [
            "True\n"
          ],
          "name": "stdout"
        }
      ]
    },
    {
      "cell_type": "code",
      "metadata": {
        "colab": {
          "base_uri": "https://localhost:8080/"
        },
        "id": "TdIOe-BC5eeG",
        "outputId": "ca4a5ea8-c4c4-4edd-bb98-8e3e91039d7d"
      },
      "source": [
        "sparql.setQuery(\"\"\"\n",
        "PREFIX ont: <http://dbpedia.org/ontology/>\n",
        "\n",
        "CONSTRUCT { <http://dbpedia.org/resource/Apple_Inc.> ont:product ?a . }\n",
        "WHERE {<http://dbpedia.org/resource/Apple_Inc.> ont:product ?a }\n",
        "\n",
        "\"\"\")\n",
        "sparql.setReturnFormat(TURTLE)\n",
        "results = sparql.query().convert()\n",
        "\n",
        "g = rdflib.Graph().parse(data=results, format=\"turtle\")\n",
        "\n",
        "print(g.serialize(format=\"turtle\").decode(\"utf-8\"))"
      ],
      "execution_count": 102,
      "outputs": [
        {
          "output_type": "stream",
          "text": [
            "@prefix dbo: <http://dbpedia.org/ontology/> .\n",
            "@prefix dbr: <http://dbpedia.org/resource/> .\n",
            "\n",
            "<http://dbpedia.org/resource/Apple_Inc.> dbo:product dbr:Apple_TV,\n",
            "        dbr:Apple_Watch,\n",
            "        dbr:Final_Cut_Pro,\n",
            "        dbr:GarageBand,\n",
            "        dbr:HomePod,\n",
            "        dbr:ILife,\n",
            "        dbr:IOS,\n",
            "        dbr:IPad,\n",
            "        dbr:IPadOS,\n",
            "        dbr:IPhone,\n",
            "        dbr:IPod,\n",
            "        dbr:IWork,\n",
            "        dbr:Logic_Pro,\n",
            "        dbr:MacOS,\n",
            "        dbr:Macintosh,\n",
            "        <http://dbpedia.org/resource/Shazam_(application)>,\n",
            "        dbr:Siri,\n",
            "        dbr:TvOS,\n",
            "        dbr:WatchOS .\n",
            "\n",
            "\n"
          ],
          "name": "stdout"
        }
      ]
    },
    {
      "cell_type": "markdown",
      "metadata": {
        "id": "kI4zsqR0_ZS2"
      },
      "source": [
        "\n",
        "\n",
        "---\n",
        "https://rathachai.creatier.pro/\n",
        "\n",
        "## つづく"
      ]
    }
  ]
}